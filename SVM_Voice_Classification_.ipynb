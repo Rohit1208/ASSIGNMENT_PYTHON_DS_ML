{
  "nbformat": 4,
  "nbformat_minor": 0,
  "metadata": {
    "kernelspec": {
      "display_name": "Python 3",
      "language": "python",
      "name": "python3"
    },
    "language_info": {
      "codemirror_mode": {
        "name": "ipython",
        "version": 3
      },
      "file_extension": ".py",
      "mimetype": "text/x-python",
      "name": "python",
      "nbconvert_exporter": "python",
      "pygments_lexer": "ipython3",
      "version": "3.7.3"
    },
    "colab": {
      "name": "SVM Voice Classification .ipynb",
      "provenance": [],
      "collapsed_sections": []
    }
  },
  "cells": [
    {
      "cell_type": "code",
      "metadata": {
        "id": "SgGQx10H1PTC"
      },
      "source": [
        "import pandas as pd\n",
        "import numpy as np\n",
        "import matplotlib.pyplot as plt\n",
        "import seaborn as sns"
      ],
      "execution_count": 83,
      "outputs": []
    },
    {
      "cell_type": "code",
      "metadata": {
        "id": "hPGi6Z-R1PUO"
      },
      "source": [
        "df = pd.read_csv('/content/voice.csv')"
      ],
      "execution_count": 84,
      "outputs": []
    },
    {
      "cell_type": "code",
      "metadata": {
        "colab": {
          "base_uri": "https://localhost:8080/",
          "height": 444
        },
        "id": "7HiCH-Wk2IW6",
        "outputId": "8499bbc0-40ad-48c4-c7cc-9a97e51fb131"
      },
      "source": [
        "df"
      ],
      "execution_count": 85,
      "outputs": [
        {
          "output_type": "execute_result",
          "data": {
            "text/html": [
              "<div>\n",
              "<style scoped>\n",
              "    .dataframe tbody tr th:only-of-type {\n",
              "        vertical-align: middle;\n",
              "    }\n",
              "\n",
              "    .dataframe tbody tr th {\n",
              "        vertical-align: top;\n",
              "    }\n",
              "\n",
              "    .dataframe thead th {\n",
              "        text-align: right;\n",
              "    }\n",
              "</style>\n",
              "<table border=\"1\" class=\"dataframe\">\n",
              "  <thead>\n",
              "    <tr style=\"text-align: right;\">\n",
              "      <th></th>\n",
              "      <th>meanfreq</th>\n",
              "      <th>sd</th>\n",
              "      <th>median</th>\n",
              "      <th>Q25</th>\n",
              "      <th>Q75</th>\n",
              "      <th>IQR</th>\n",
              "      <th>skew</th>\n",
              "      <th>kurt</th>\n",
              "      <th>sp.ent</th>\n",
              "      <th>sfm</th>\n",
              "      <th>mode</th>\n",
              "      <th>centroid</th>\n",
              "      <th>meanfun</th>\n",
              "      <th>minfun</th>\n",
              "      <th>maxfun</th>\n",
              "      <th>meandom</th>\n",
              "      <th>mindom</th>\n",
              "      <th>maxdom</th>\n",
              "      <th>dfrange</th>\n",
              "      <th>modindx</th>\n",
              "      <th>label</th>\n",
              "    </tr>\n",
              "  </thead>\n",
              "  <tbody>\n",
              "    <tr>\n",
              "      <th>0</th>\n",
              "      <td>0.059781</td>\n",
              "      <td>0.064241</td>\n",
              "      <td>0.032027</td>\n",
              "      <td>0.015071</td>\n",
              "      <td>0.090193</td>\n",
              "      <td>0.075122</td>\n",
              "      <td>12.863462</td>\n",
              "      <td>274.402906</td>\n",
              "      <td>0.893369</td>\n",
              "      <td>0.491918</td>\n",
              "      <td>0.000000</td>\n",
              "      <td>0.059781</td>\n",
              "      <td>0.084279</td>\n",
              "      <td>0.015702</td>\n",
              "      <td>0.275862</td>\n",
              "      <td>0.007812</td>\n",
              "      <td>0.007812</td>\n",
              "      <td>0.007812</td>\n",
              "      <td>0.000000</td>\n",
              "      <td>0.000000</td>\n",
              "      <td>male</td>\n",
              "    </tr>\n",
              "    <tr>\n",
              "      <th>1</th>\n",
              "      <td>0.066009</td>\n",
              "      <td>0.067310</td>\n",
              "      <td>0.040229</td>\n",
              "      <td>0.019414</td>\n",
              "      <td>0.092666</td>\n",
              "      <td>0.073252</td>\n",
              "      <td>22.423285</td>\n",
              "      <td>634.613855</td>\n",
              "      <td>0.892193</td>\n",
              "      <td>0.513724</td>\n",
              "      <td>0.000000</td>\n",
              "      <td>0.066009</td>\n",
              "      <td>0.107937</td>\n",
              "      <td>0.015826</td>\n",
              "      <td>0.250000</td>\n",
              "      <td>0.009014</td>\n",
              "      <td>0.007812</td>\n",
              "      <td>0.054688</td>\n",
              "      <td>0.046875</td>\n",
              "      <td>0.052632</td>\n",
              "      <td>male</td>\n",
              "    </tr>\n",
              "    <tr>\n",
              "      <th>2</th>\n",
              "      <td>0.077316</td>\n",
              "      <td>0.083829</td>\n",
              "      <td>0.036718</td>\n",
              "      <td>0.008701</td>\n",
              "      <td>0.131908</td>\n",
              "      <td>0.123207</td>\n",
              "      <td>30.757155</td>\n",
              "      <td>1024.927705</td>\n",
              "      <td>0.846389</td>\n",
              "      <td>0.478905</td>\n",
              "      <td>0.000000</td>\n",
              "      <td>0.077316</td>\n",
              "      <td>0.098706</td>\n",
              "      <td>0.015656</td>\n",
              "      <td>0.271186</td>\n",
              "      <td>0.007990</td>\n",
              "      <td>0.007812</td>\n",
              "      <td>0.015625</td>\n",
              "      <td>0.007812</td>\n",
              "      <td>0.046512</td>\n",
              "      <td>male</td>\n",
              "    </tr>\n",
              "    <tr>\n",
              "      <th>3</th>\n",
              "      <td>0.151228</td>\n",
              "      <td>0.072111</td>\n",
              "      <td>0.158011</td>\n",
              "      <td>0.096582</td>\n",
              "      <td>0.207955</td>\n",
              "      <td>0.111374</td>\n",
              "      <td>1.232831</td>\n",
              "      <td>4.177296</td>\n",
              "      <td>0.963322</td>\n",
              "      <td>0.727232</td>\n",
              "      <td>0.083878</td>\n",
              "      <td>0.151228</td>\n",
              "      <td>0.088965</td>\n",
              "      <td>0.017798</td>\n",
              "      <td>0.250000</td>\n",
              "      <td>0.201497</td>\n",
              "      <td>0.007812</td>\n",
              "      <td>0.562500</td>\n",
              "      <td>0.554688</td>\n",
              "      <td>0.247119</td>\n",
              "      <td>male</td>\n",
              "    </tr>\n",
              "    <tr>\n",
              "      <th>4</th>\n",
              "      <td>0.135120</td>\n",
              "      <td>0.079146</td>\n",
              "      <td>0.124656</td>\n",
              "      <td>0.078720</td>\n",
              "      <td>0.206045</td>\n",
              "      <td>0.127325</td>\n",
              "      <td>1.101174</td>\n",
              "      <td>4.333713</td>\n",
              "      <td>0.971955</td>\n",
              "      <td>0.783568</td>\n",
              "      <td>0.104261</td>\n",
              "      <td>0.135120</td>\n",
              "      <td>0.106398</td>\n",
              "      <td>0.016931</td>\n",
              "      <td>0.266667</td>\n",
              "      <td>0.712812</td>\n",
              "      <td>0.007812</td>\n",
              "      <td>5.484375</td>\n",
              "      <td>5.476562</td>\n",
              "      <td>0.208274</td>\n",
              "      <td>male</td>\n",
              "    </tr>\n",
              "    <tr>\n",
              "      <th>...</th>\n",
              "      <td>...</td>\n",
              "      <td>...</td>\n",
              "      <td>...</td>\n",
              "      <td>...</td>\n",
              "      <td>...</td>\n",
              "      <td>...</td>\n",
              "      <td>...</td>\n",
              "      <td>...</td>\n",
              "      <td>...</td>\n",
              "      <td>...</td>\n",
              "      <td>...</td>\n",
              "      <td>...</td>\n",
              "      <td>...</td>\n",
              "      <td>...</td>\n",
              "      <td>...</td>\n",
              "      <td>...</td>\n",
              "      <td>...</td>\n",
              "      <td>...</td>\n",
              "      <td>...</td>\n",
              "      <td>...</td>\n",
              "      <td>...</td>\n",
              "    </tr>\n",
              "    <tr>\n",
              "      <th>3163</th>\n",
              "      <td>0.131884</td>\n",
              "      <td>0.084734</td>\n",
              "      <td>0.153707</td>\n",
              "      <td>0.049285</td>\n",
              "      <td>0.201144</td>\n",
              "      <td>0.151859</td>\n",
              "      <td>1.762129</td>\n",
              "      <td>6.630383</td>\n",
              "      <td>0.962934</td>\n",
              "      <td>0.763182</td>\n",
              "      <td>0.200836</td>\n",
              "      <td>0.131884</td>\n",
              "      <td>0.182790</td>\n",
              "      <td>0.083770</td>\n",
              "      <td>0.262295</td>\n",
              "      <td>0.832899</td>\n",
              "      <td>0.007812</td>\n",
              "      <td>4.210938</td>\n",
              "      <td>4.203125</td>\n",
              "      <td>0.161929</td>\n",
              "      <td>female</td>\n",
              "    </tr>\n",
              "    <tr>\n",
              "      <th>3164</th>\n",
              "      <td>0.116221</td>\n",
              "      <td>0.089221</td>\n",
              "      <td>0.076758</td>\n",
              "      <td>0.042718</td>\n",
              "      <td>0.204911</td>\n",
              "      <td>0.162193</td>\n",
              "      <td>0.693730</td>\n",
              "      <td>2.503954</td>\n",
              "      <td>0.960716</td>\n",
              "      <td>0.709570</td>\n",
              "      <td>0.013683</td>\n",
              "      <td>0.116221</td>\n",
              "      <td>0.188980</td>\n",
              "      <td>0.034409</td>\n",
              "      <td>0.275862</td>\n",
              "      <td>0.909856</td>\n",
              "      <td>0.039062</td>\n",
              "      <td>3.679688</td>\n",
              "      <td>3.640625</td>\n",
              "      <td>0.277897</td>\n",
              "      <td>female</td>\n",
              "    </tr>\n",
              "    <tr>\n",
              "      <th>3165</th>\n",
              "      <td>0.142056</td>\n",
              "      <td>0.095798</td>\n",
              "      <td>0.183731</td>\n",
              "      <td>0.033424</td>\n",
              "      <td>0.224360</td>\n",
              "      <td>0.190936</td>\n",
              "      <td>1.876502</td>\n",
              "      <td>6.604509</td>\n",
              "      <td>0.946854</td>\n",
              "      <td>0.654196</td>\n",
              "      <td>0.008006</td>\n",
              "      <td>0.142056</td>\n",
              "      <td>0.209918</td>\n",
              "      <td>0.039506</td>\n",
              "      <td>0.275862</td>\n",
              "      <td>0.494271</td>\n",
              "      <td>0.007812</td>\n",
              "      <td>2.937500</td>\n",
              "      <td>2.929688</td>\n",
              "      <td>0.194759</td>\n",
              "      <td>female</td>\n",
              "    </tr>\n",
              "    <tr>\n",
              "      <th>3166</th>\n",
              "      <td>0.143659</td>\n",
              "      <td>0.090628</td>\n",
              "      <td>0.184976</td>\n",
              "      <td>0.043508</td>\n",
              "      <td>0.219943</td>\n",
              "      <td>0.176435</td>\n",
              "      <td>1.591065</td>\n",
              "      <td>5.388298</td>\n",
              "      <td>0.950436</td>\n",
              "      <td>0.675470</td>\n",
              "      <td>0.212202</td>\n",
              "      <td>0.143659</td>\n",
              "      <td>0.172375</td>\n",
              "      <td>0.034483</td>\n",
              "      <td>0.250000</td>\n",
              "      <td>0.791360</td>\n",
              "      <td>0.007812</td>\n",
              "      <td>3.593750</td>\n",
              "      <td>3.585938</td>\n",
              "      <td>0.311002</td>\n",
              "      <td>female</td>\n",
              "    </tr>\n",
              "    <tr>\n",
              "      <th>3167</th>\n",
              "      <td>0.165509</td>\n",
              "      <td>0.092884</td>\n",
              "      <td>0.183044</td>\n",
              "      <td>0.070072</td>\n",
              "      <td>0.250827</td>\n",
              "      <td>0.180756</td>\n",
              "      <td>1.705029</td>\n",
              "      <td>5.769115</td>\n",
              "      <td>0.938829</td>\n",
              "      <td>0.601529</td>\n",
              "      <td>0.267702</td>\n",
              "      <td>0.165509</td>\n",
              "      <td>0.185607</td>\n",
              "      <td>0.062257</td>\n",
              "      <td>0.271186</td>\n",
              "      <td>0.227022</td>\n",
              "      <td>0.007812</td>\n",
              "      <td>0.554688</td>\n",
              "      <td>0.546875</td>\n",
              "      <td>0.350000</td>\n",
              "      <td>female</td>\n",
              "    </tr>\n",
              "  </tbody>\n",
              "</table>\n",
              "<p>3168 rows × 21 columns</p>\n",
              "</div>"
            ],
            "text/plain": [
              "      meanfreq        sd    median  ...   dfrange   modindx   label\n",
              "0     0.059781  0.064241  0.032027  ...  0.000000  0.000000    male\n",
              "1     0.066009  0.067310  0.040229  ...  0.046875  0.052632    male\n",
              "2     0.077316  0.083829  0.036718  ...  0.007812  0.046512    male\n",
              "3     0.151228  0.072111  0.158011  ...  0.554688  0.247119    male\n",
              "4     0.135120  0.079146  0.124656  ...  5.476562  0.208274    male\n",
              "...        ...       ...       ...  ...       ...       ...     ...\n",
              "3163  0.131884  0.084734  0.153707  ...  4.203125  0.161929  female\n",
              "3164  0.116221  0.089221  0.076758  ...  3.640625  0.277897  female\n",
              "3165  0.142056  0.095798  0.183731  ...  2.929688  0.194759  female\n",
              "3166  0.143659  0.090628  0.184976  ...  3.585938  0.311002  female\n",
              "3167  0.165509  0.092884  0.183044  ...  0.546875  0.350000  female\n",
              "\n",
              "[3168 rows x 21 columns]"
            ]
          },
          "metadata": {},
          "execution_count": 85
        }
      ]
    },
    {
      "cell_type": "markdown",
      "metadata": {
        "id": "hBJ7Ocfl2Rc5"
      },
      "source": [
        "##Remove/handle null values (if any)"
      ]
    },
    {
      "cell_type": "code",
      "metadata": {
        "colab": {
          "base_uri": "https://localhost:8080/"
        },
        "id": "O69y_Zaj3Lai",
        "outputId": "ae362a71-2940-492b-99a2-b52f75bb3330"
      },
      "source": [
        "df.isnull().sum()"
      ],
      "execution_count": 86,
      "outputs": [
        {
          "output_type": "execute_result",
          "data": {
            "text/plain": [
              "meanfreq    0\n",
              "sd          0\n",
              "median      0\n",
              "Q25         0\n",
              "Q75         0\n",
              "IQR         0\n",
              "skew        0\n",
              "kurt        0\n",
              "sp.ent      0\n",
              "sfm         0\n",
              "mode        0\n",
              "centroid    0\n",
              "meanfun     0\n",
              "minfun      0\n",
              "maxfun      0\n",
              "meandom     0\n",
              "mindom      0\n",
              "maxdom      0\n",
              "dfrange     0\n",
              "modindx     0\n",
              "label       0\n",
              "dtype: int64"
            ]
          },
          "metadata": {},
          "execution_count": 86
        }
      ]
    },
    {
      "cell_type": "code",
      "metadata": {
        "colab": {
          "base_uri": "https://localhost:8080/",
          "height": 320
        },
        "id": "OqdViS8k2U0h",
        "outputId": "2f1d7330-6169-4d00-a791-cc3276054e95"
      },
      "source": [
        "df.describe()"
      ],
      "execution_count": 87,
      "outputs": [
        {
          "output_type": "execute_result",
          "data": {
            "text/html": [
              "<div>\n",
              "<style scoped>\n",
              "    .dataframe tbody tr th:only-of-type {\n",
              "        vertical-align: middle;\n",
              "    }\n",
              "\n",
              "    .dataframe tbody tr th {\n",
              "        vertical-align: top;\n",
              "    }\n",
              "\n",
              "    .dataframe thead th {\n",
              "        text-align: right;\n",
              "    }\n",
              "</style>\n",
              "<table border=\"1\" class=\"dataframe\">\n",
              "  <thead>\n",
              "    <tr style=\"text-align: right;\">\n",
              "      <th></th>\n",
              "      <th>meanfreq</th>\n",
              "      <th>sd</th>\n",
              "      <th>median</th>\n",
              "      <th>Q25</th>\n",
              "      <th>Q75</th>\n",
              "      <th>IQR</th>\n",
              "      <th>skew</th>\n",
              "      <th>kurt</th>\n",
              "      <th>sp.ent</th>\n",
              "      <th>sfm</th>\n",
              "      <th>mode</th>\n",
              "      <th>centroid</th>\n",
              "      <th>meanfun</th>\n",
              "      <th>minfun</th>\n",
              "      <th>maxfun</th>\n",
              "      <th>meandom</th>\n",
              "      <th>mindom</th>\n",
              "      <th>maxdom</th>\n",
              "      <th>dfrange</th>\n",
              "      <th>modindx</th>\n",
              "    </tr>\n",
              "  </thead>\n",
              "  <tbody>\n",
              "    <tr>\n",
              "      <th>count</th>\n",
              "      <td>3168.000000</td>\n",
              "      <td>3168.000000</td>\n",
              "      <td>3168.000000</td>\n",
              "      <td>3168.000000</td>\n",
              "      <td>3168.000000</td>\n",
              "      <td>3168.000000</td>\n",
              "      <td>3168.000000</td>\n",
              "      <td>3168.000000</td>\n",
              "      <td>3168.000000</td>\n",
              "      <td>3168.000000</td>\n",
              "      <td>3168.000000</td>\n",
              "      <td>3168.000000</td>\n",
              "      <td>3168.000000</td>\n",
              "      <td>3168.000000</td>\n",
              "      <td>3168.000000</td>\n",
              "      <td>3168.000000</td>\n",
              "      <td>3168.000000</td>\n",
              "      <td>3168.000000</td>\n",
              "      <td>3168.000000</td>\n",
              "      <td>3168.000000</td>\n",
              "    </tr>\n",
              "    <tr>\n",
              "      <th>mean</th>\n",
              "      <td>0.180907</td>\n",
              "      <td>0.057126</td>\n",
              "      <td>0.185621</td>\n",
              "      <td>0.140456</td>\n",
              "      <td>0.224765</td>\n",
              "      <td>0.084309</td>\n",
              "      <td>3.140168</td>\n",
              "      <td>36.568461</td>\n",
              "      <td>0.895127</td>\n",
              "      <td>0.408216</td>\n",
              "      <td>0.165282</td>\n",
              "      <td>0.180907</td>\n",
              "      <td>0.142807</td>\n",
              "      <td>0.036802</td>\n",
              "      <td>0.258842</td>\n",
              "      <td>0.829211</td>\n",
              "      <td>0.052647</td>\n",
              "      <td>5.047277</td>\n",
              "      <td>4.994630</td>\n",
              "      <td>0.173752</td>\n",
              "    </tr>\n",
              "    <tr>\n",
              "      <th>std</th>\n",
              "      <td>0.029918</td>\n",
              "      <td>0.016652</td>\n",
              "      <td>0.036360</td>\n",
              "      <td>0.048680</td>\n",
              "      <td>0.023639</td>\n",
              "      <td>0.042783</td>\n",
              "      <td>4.240529</td>\n",
              "      <td>134.928661</td>\n",
              "      <td>0.044980</td>\n",
              "      <td>0.177521</td>\n",
              "      <td>0.077203</td>\n",
              "      <td>0.029918</td>\n",
              "      <td>0.032304</td>\n",
              "      <td>0.019220</td>\n",
              "      <td>0.030077</td>\n",
              "      <td>0.525205</td>\n",
              "      <td>0.063299</td>\n",
              "      <td>3.521157</td>\n",
              "      <td>3.520039</td>\n",
              "      <td>0.119454</td>\n",
              "    </tr>\n",
              "    <tr>\n",
              "      <th>min</th>\n",
              "      <td>0.039363</td>\n",
              "      <td>0.018363</td>\n",
              "      <td>0.010975</td>\n",
              "      <td>0.000229</td>\n",
              "      <td>0.042946</td>\n",
              "      <td>0.014558</td>\n",
              "      <td>0.141735</td>\n",
              "      <td>2.068455</td>\n",
              "      <td>0.738651</td>\n",
              "      <td>0.036876</td>\n",
              "      <td>0.000000</td>\n",
              "      <td>0.039363</td>\n",
              "      <td>0.055565</td>\n",
              "      <td>0.009775</td>\n",
              "      <td>0.103093</td>\n",
              "      <td>0.007812</td>\n",
              "      <td>0.004883</td>\n",
              "      <td>0.007812</td>\n",
              "      <td>0.000000</td>\n",
              "      <td>0.000000</td>\n",
              "    </tr>\n",
              "    <tr>\n",
              "      <th>25%</th>\n",
              "      <td>0.163662</td>\n",
              "      <td>0.041954</td>\n",
              "      <td>0.169593</td>\n",
              "      <td>0.111087</td>\n",
              "      <td>0.208747</td>\n",
              "      <td>0.042560</td>\n",
              "      <td>1.649569</td>\n",
              "      <td>5.669547</td>\n",
              "      <td>0.861811</td>\n",
              "      <td>0.258041</td>\n",
              "      <td>0.118016</td>\n",
              "      <td>0.163662</td>\n",
              "      <td>0.116998</td>\n",
              "      <td>0.018223</td>\n",
              "      <td>0.253968</td>\n",
              "      <td>0.419828</td>\n",
              "      <td>0.007812</td>\n",
              "      <td>2.070312</td>\n",
              "      <td>2.044922</td>\n",
              "      <td>0.099766</td>\n",
              "    </tr>\n",
              "    <tr>\n",
              "      <th>50%</th>\n",
              "      <td>0.184838</td>\n",
              "      <td>0.059155</td>\n",
              "      <td>0.190032</td>\n",
              "      <td>0.140286</td>\n",
              "      <td>0.225684</td>\n",
              "      <td>0.094280</td>\n",
              "      <td>2.197101</td>\n",
              "      <td>8.318463</td>\n",
              "      <td>0.901767</td>\n",
              "      <td>0.396335</td>\n",
              "      <td>0.186599</td>\n",
              "      <td>0.184838</td>\n",
              "      <td>0.140519</td>\n",
              "      <td>0.046110</td>\n",
              "      <td>0.271186</td>\n",
              "      <td>0.765795</td>\n",
              "      <td>0.023438</td>\n",
              "      <td>4.992188</td>\n",
              "      <td>4.945312</td>\n",
              "      <td>0.139357</td>\n",
              "    </tr>\n",
              "    <tr>\n",
              "      <th>75%</th>\n",
              "      <td>0.199146</td>\n",
              "      <td>0.067020</td>\n",
              "      <td>0.210618</td>\n",
              "      <td>0.175939</td>\n",
              "      <td>0.243660</td>\n",
              "      <td>0.114175</td>\n",
              "      <td>2.931694</td>\n",
              "      <td>13.648905</td>\n",
              "      <td>0.928713</td>\n",
              "      <td>0.533676</td>\n",
              "      <td>0.221104</td>\n",
              "      <td>0.199146</td>\n",
              "      <td>0.169581</td>\n",
              "      <td>0.047904</td>\n",
              "      <td>0.277457</td>\n",
              "      <td>1.177166</td>\n",
              "      <td>0.070312</td>\n",
              "      <td>7.007812</td>\n",
              "      <td>6.992188</td>\n",
              "      <td>0.209183</td>\n",
              "    </tr>\n",
              "    <tr>\n",
              "      <th>max</th>\n",
              "      <td>0.251124</td>\n",
              "      <td>0.115273</td>\n",
              "      <td>0.261224</td>\n",
              "      <td>0.247347</td>\n",
              "      <td>0.273469</td>\n",
              "      <td>0.252225</td>\n",
              "      <td>34.725453</td>\n",
              "      <td>1309.612887</td>\n",
              "      <td>0.981997</td>\n",
              "      <td>0.842936</td>\n",
              "      <td>0.280000</td>\n",
              "      <td>0.251124</td>\n",
              "      <td>0.237636</td>\n",
              "      <td>0.204082</td>\n",
              "      <td>0.279114</td>\n",
              "      <td>2.957682</td>\n",
              "      <td>0.458984</td>\n",
              "      <td>21.867188</td>\n",
              "      <td>21.843750</td>\n",
              "      <td>0.932374</td>\n",
              "    </tr>\n",
              "  </tbody>\n",
              "</table>\n",
              "</div>"
            ],
            "text/plain": [
              "          meanfreq           sd  ...      dfrange      modindx\n",
              "count  3168.000000  3168.000000  ...  3168.000000  3168.000000\n",
              "mean      0.180907     0.057126  ...     4.994630     0.173752\n",
              "std       0.029918     0.016652  ...     3.520039     0.119454\n",
              "min       0.039363     0.018363  ...     0.000000     0.000000\n",
              "25%       0.163662     0.041954  ...     2.044922     0.099766\n",
              "50%       0.184838     0.059155  ...     4.945312     0.139357\n",
              "75%       0.199146     0.067020  ...     6.992188     0.209183\n",
              "max       0.251124     0.115273  ...    21.843750     0.932374\n",
              "\n",
              "[8 rows x 20 columns]"
            ]
          },
          "metadata": {},
          "execution_count": 87
        }
      ]
    },
    {
      "cell_type": "markdown",
      "metadata": {
        "id": "JMVkeWlk2bXo"
      },
      "source": [
        "##Depict percentage distribution of label on a pie chart"
      ]
    },
    {
      "cell_type": "code",
      "metadata": {
        "colab": {
          "base_uri": "https://localhost:8080/"
        },
        "id": "BCPLqYsU3VWi",
        "outputId": "b0c23e13-813e-4558-8fb2-6956ffe0123d"
      },
      "source": [
        "df['label'].value_counts()"
      ],
      "execution_count": 88,
      "outputs": [
        {
          "output_type": "execute_result",
          "data": {
            "text/plain": [
              "female    1584\n",
              "male      1584\n",
              "Name: label, dtype: int64"
            ]
          },
          "metadata": {},
          "execution_count": 88
        }
      ]
    },
    {
      "cell_type": "code",
      "metadata": {
        "colab": {
          "base_uri": "https://localhost:8080/",
          "height": 248
        },
        "id": "9xHBKFcj3eHX",
        "outputId": "0f317e74-beb9-447a-df4c-6c3f0297d0f7"
      },
      "source": [
        "plt.pie(df['label'].value_counts(),colors=['green','yellow'],labels=['Female','Male'],autopct='%3f%%')\n",
        "plt.legend()\n",
        "plt.show()"
      ],
      "execution_count": 89,
      "outputs": [
        {
          "output_type": "display_data",
          "data": {
            "image/png": "[encoded data removed]",
            "text/plain": [
              "<Figure size 432x288 with 1 Axes>"
            ]
          },
          "metadata": {}
        }
      ]
    },
    {
      "cell_type": "markdown",
      "metadata": {
        "id": "Ptdqv-Nn38Tj"
      },
      "source": [
        "##Considering all the features as independent feature and 'label' as dependent feature, split the dataset into training and testing data with test size=20%"
      ]
    },
    {
      "cell_type": "code",
      "metadata": {
        "id": "gPqET3c43ppD"
      },
      "source": [
        "x = df.iloc[:,:-1]\n",
        "y = df.iloc[:,-1]"
      ],
      "execution_count": 90,
      "outputs": []
    },
    {
      "cell_type": "code",
      "metadata": {
        "colab": {
          "base_uri": "https://localhost:8080/",
          "height": 226
        },
        "id": "J-ps6Co_34NV",
        "outputId": "1ac44597-f1ea-4785-a2bc-3019d1848483"
      },
      "source": [
        "x.head()"
      ],
      "execution_count": 91,
      "outputs": [
        {
          "output_type": "execute_result",
          "data": {
            "text/html": [
              "<div>\n",
              "<style scoped>\n",
              "    .dataframe tbody tr th:only-of-type {\n",
              "        vertical-align: middle;\n",
              "    }\n",
              "\n",
              "    .dataframe tbody tr th {\n",
              "        vertical-align: top;\n",
              "    }\n",
              "\n",
              "    .dataframe thead th {\n",
              "        text-align: right;\n",
              "    }\n",
              "</style>\n",
              "<table border=\"1\" class=\"dataframe\">\n",
              "  <thead>\n",
              "    <tr style=\"text-align: right;\">\n",
              "      <th></th>\n",
              "      <th>meanfreq</th>\n",
              "      <th>sd</th>\n",
              "      <th>median</th>\n",
              "      <th>Q25</th>\n",
              "      <th>Q75</th>\n",
              "      <th>IQR</th>\n",
              "      <th>skew</th>\n",
              "      <th>kurt</th>\n",
              "      <th>sp.ent</th>\n",
              "      <th>sfm</th>\n",
              "      <th>mode</th>\n",
              "      <th>centroid</th>\n",
              "      <th>meanfun</th>\n",
              "      <th>minfun</th>\n",
              "      <th>maxfun</th>\n",
              "      <th>meandom</th>\n",
              "      <th>mindom</th>\n",
              "      <th>maxdom</th>\n",
              "      <th>dfrange</th>\n",
              "      <th>modindx</th>\n",
              "    </tr>\n",
              "  </thead>\n",
              "  <tbody>\n",
              "    <tr>\n",
              "      <th>0</th>\n",
              "      <td>0.059781</td>\n",
              "      <td>0.064241</td>\n",
              "      <td>0.032027</td>\n",
              "      <td>0.015071</td>\n",
              "      <td>0.090193</td>\n",
              "      <td>0.075122</td>\n",
              "      <td>12.863462</td>\n",
              "      <td>274.402906</td>\n",
              "      <td>0.893369</td>\n",
              "      <td>0.491918</td>\n",
              "      <td>0.000000</td>\n",
              "      <td>0.059781</td>\n",
              "      <td>0.084279</td>\n",
              "      <td>0.015702</td>\n",
              "      <td>0.275862</td>\n",
              "      <td>0.007812</td>\n",
              "      <td>0.007812</td>\n",
              "      <td>0.007812</td>\n",
              "      <td>0.000000</td>\n",
              "      <td>0.000000</td>\n",
              "    </tr>\n",
              "    <tr>\n",
              "      <th>1</th>\n",
              "      <td>0.066009</td>\n",
              "      <td>0.067310</td>\n",
              "      <td>0.040229</td>\n",
              "      <td>0.019414</td>\n",
              "      <td>0.092666</td>\n",
              "      <td>0.073252</td>\n",
              "      <td>22.423285</td>\n",
              "      <td>634.613855</td>\n",
              "      <td>0.892193</td>\n",
              "      <td>0.513724</td>\n",
              "      <td>0.000000</td>\n",
              "      <td>0.066009</td>\n",
              "      <td>0.107937</td>\n",
              "      <td>0.015826</td>\n",
              "      <td>0.250000</td>\n",
              "      <td>0.009014</td>\n",
              "      <td>0.007812</td>\n",
              "      <td>0.054688</td>\n",
              "      <td>0.046875</td>\n",
              "      <td>0.052632</td>\n",
              "    </tr>\n",
              "    <tr>\n",
              "      <th>2</th>\n",
              "      <td>0.077316</td>\n",
              "      <td>0.083829</td>\n",
              "      <td>0.036718</td>\n",
              "      <td>0.008701</td>\n",
              "      <td>0.131908</td>\n",
              "      <td>0.123207</td>\n",
              "      <td>30.757155</td>\n",
              "      <td>1024.927705</td>\n",
              "      <td>0.846389</td>\n",
              "      <td>0.478905</td>\n",
              "      <td>0.000000</td>\n",
              "      <td>0.077316</td>\n",
              "      <td>0.098706</td>\n",
              "      <td>0.015656</td>\n",
              "      <td>0.271186</td>\n",
              "      <td>0.007990</td>\n",
              "      <td>0.007812</td>\n",
              "      <td>0.015625</td>\n",
              "      <td>0.007812</td>\n",
              "      <td>0.046512</td>\n",
              "    </tr>\n",
              "    <tr>\n",
              "      <th>3</th>\n",
              "      <td>0.151228</td>\n",
              "      <td>0.072111</td>\n",
              "      <td>0.158011</td>\n",
              "      <td>0.096582</td>\n",
              "      <td>0.207955</td>\n",
              "      <td>0.111374</td>\n",
              "      <td>1.232831</td>\n",
              "      <td>4.177296</td>\n",
              "      <td>0.963322</td>\n",
              "      <td>0.727232</td>\n",
              "      <td>0.083878</td>\n",
              "      <td>0.151228</td>\n",
              "      <td>0.088965</td>\n",
              "      <td>0.017798</td>\n",
              "      <td>0.250000</td>\n",
              "      <td>0.201497</td>\n",
              "      <td>0.007812</td>\n",
              "      <td>0.562500</td>\n",
              "      <td>0.554688</td>\n",
              "      <td>0.247119</td>\n",
              "    </tr>\n",
              "    <tr>\n",
              "      <th>4</th>\n",
              "      <td>0.135120</td>\n",
              "      <td>0.079146</td>\n",
              "      <td>0.124656</td>\n",
              "      <td>0.078720</td>\n",
              "      <td>0.206045</td>\n",
              "      <td>0.127325</td>\n",
              "      <td>1.101174</td>\n",
              "      <td>4.333713</td>\n",
              "      <td>0.971955</td>\n",
              "      <td>0.783568</td>\n",
              "      <td>0.104261</td>\n",
              "      <td>0.135120</td>\n",
              "      <td>0.106398</td>\n",
              "      <td>0.016931</td>\n",
              "      <td>0.266667</td>\n",
              "      <td>0.712812</td>\n",
              "      <td>0.007812</td>\n",
              "      <td>5.484375</td>\n",
              "      <td>5.476562</td>\n",
              "      <td>0.208274</td>\n",
              "    </tr>\n",
              "  </tbody>\n",
              "</table>\n",
              "</div>"
            ],
            "text/plain": [
              "   meanfreq        sd    median  ...    maxdom   dfrange   modindx\n",
              "0  0.059781  0.064241  0.032027  ...  0.007812  0.000000  0.000000\n",
              "1  0.066009  0.067310  0.040229  ...  0.054688  0.046875  0.052632\n",
              "2  0.077316  0.083829  0.036718  ...  0.015625  0.007812  0.046512\n",
              "3  0.151228  0.072111  0.158011  ...  0.562500  0.554688  0.247119\n",
              "4  0.135120  0.079146  0.124656  ...  5.484375  5.476562  0.208274\n",
              "\n",
              "[5 rows x 20 columns]"
            ]
          },
          "metadata": {},
          "execution_count": 91
        }
      ]
    },
    {
      "cell_type": "code",
      "metadata": {
        "colab": {
          "base_uri": "https://localhost:8080/"
        },
        "id": "NohCcNbp34Cr",
        "outputId": "2443398d-9a60-41e9-a60c-2b41aeea4880"
      },
      "source": [
        "y.head()"
      ],
      "execution_count": 92,
      "outputs": [
        {
          "output_type": "execute_result",
          "data": {
            "text/plain": [
              "0    male\n",
              "1    male\n",
              "2    male\n",
              "3    male\n",
              "4    male\n",
              "Name: label, dtype: object"
            ]
          },
          "metadata": {},
          "execution_count": 92
        }
      ]
    },
    {
      "cell_type": "code",
      "metadata": {
        "id": "nA5I34sy338C"
      },
      "source": [
        "from sklearn.model_selection import train_test_split"
      ],
      "execution_count": 93,
      "outputs": []
    },
    {
      "cell_type": "code",
      "metadata": {
        "id": "gbq-OzyU330M"
      },
      "source": [
        "x_train,x_test,y_train,y_test = train_test_split(x,y,test_size=0.20)"
      ],
      "execution_count": 94,
      "outputs": []
    },
    {
      "cell_type": "code",
      "metadata": {
        "colab": {
          "base_uri": "https://localhost:8080/",
          "height": 226
        },
        "id": "JAOKEZpj33tb",
        "outputId": "e361afed-dc70-496b-f231-d1bd9a71a0ef"
      },
      "source": [
        "x_train.head()"
      ],
      "execution_count": 95,
      "outputs": [
        {
          "output_type": "execute_result",
          "data": {
            "text/html": [
              "<div>\n",
              "<style scoped>\n",
              "    .dataframe tbody tr th:only-of-type {\n",
              "        vertical-align: middle;\n",
              "    }\n",
              "\n",
              "    .dataframe tbody tr th {\n",
              "        vertical-align: top;\n",
              "    }\n",
              "\n",
              "    .dataframe thead th {\n",
              "        text-align: right;\n",
              "    }\n",
              "</style>\n",
              "<table border=\"1\" class=\"dataframe\">\n",
              "  <thead>\n",
              "    <tr style=\"text-align: right;\">\n",
              "      <th></th>\n",
              "      <th>meanfreq</th>\n",
              "      <th>sd</th>\n",
              "      <th>median</th>\n",
              "      <th>Q25</th>\n",
              "      <th>Q75</th>\n",
              "      <th>IQR</th>\n",
              "      <th>skew</th>\n",
              "      <th>kurt</th>\n",
              "      <th>sp.ent</th>\n",
              "      <th>sfm</th>\n",
              "      <th>mode</th>\n",
              "      <th>centroid</th>\n",
              "      <th>meanfun</th>\n",
              "      <th>minfun</th>\n",
              "      <th>maxfun</th>\n",
              "      <th>meandom</th>\n",
              "      <th>mindom</th>\n",
              "      <th>maxdom</th>\n",
              "      <th>dfrange</th>\n",
              "      <th>modindx</th>\n",
              "    </tr>\n",
              "  </thead>\n",
              "  <tbody>\n",
              "    <tr>\n",
              "      <th>1059</th>\n",
              "      <td>0.192408</td>\n",
              "      <td>0.055248</td>\n",
              "      <td>0.210461</td>\n",
              "      <td>0.133092</td>\n",
              "      <td>0.236250</td>\n",
              "      <td>0.103158</td>\n",
              "      <td>1.377064</td>\n",
              "      <td>4.495481</td>\n",
              "      <td>0.909032</td>\n",
              "      <td>0.348257</td>\n",
              "      <td>0.230724</td>\n",
              "      <td>0.192408</td>\n",
              "      <td>0.123986</td>\n",
              "      <td>0.047059</td>\n",
              "      <td>0.275862</td>\n",
              "      <td>1.406250</td>\n",
              "      <td>0.023438</td>\n",
              "      <td>7.875000</td>\n",
              "      <td>7.851562</td>\n",
              "      <td>0.111685</td>\n",
              "    </tr>\n",
              "    <tr>\n",
              "      <th>448</th>\n",
              "      <td>0.194781</td>\n",
              "      <td>0.057615</td>\n",
              "      <td>0.207011</td>\n",
              "      <td>0.141573</td>\n",
              "      <td>0.242876</td>\n",
              "      <td>0.101303</td>\n",
              "      <td>1.215027</td>\n",
              "      <td>4.165964</td>\n",
              "      <td>0.913199</td>\n",
              "      <td>0.381898</td>\n",
              "      <td>0.139056</td>\n",
              "      <td>0.194781</td>\n",
              "      <td>0.112783</td>\n",
              "      <td>0.020539</td>\n",
              "      <td>0.152381</td>\n",
              "      <td>0.430339</td>\n",
              "      <td>0.226562</td>\n",
              "      <td>0.796875</td>\n",
              "      <td>0.570312</td>\n",
              "      <td>0.367372</td>\n",
              "    </tr>\n",
              "    <tr>\n",
              "      <th>542</th>\n",
              "      <td>0.140373</td>\n",
              "      <td>0.091465</td>\n",
              "      <td>0.151220</td>\n",
              "      <td>0.081603</td>\n",
              "      <td>0.216248</td>\n",
              "      <td>0.134645</td>\n",
              "      <td>25.693289</td>\n",
              "      <td>711.134310</td>\n",
              "      <td>0.842626</td>\n",
              "      <td>0.466323</td>\n",
              "      <td>0.000000</td>\n",
              "      <td>0.140373</td>\n",
              "      <td>0.064367</td>\n",
              "      <td>0.015779</td>\n",
              "      <td>0.160000</td>\n",
              "      <td>0.007812</td>\n",
              "      <td>0.007812</td>\n",
              "      <td>0.007812</td>\n",
              "      <td>0.000000</td>\n",
              "      <td>0.000000</td>\n",
              "    </tr>\n",
              "    <tr>\n",
              "      <th>2523</th>\n",
              "      <td>0.211460</td>\n",
              "      <td>0.031389</td>\n",
              "      <td>0.212108</td>\n",
              "      <td>0.199458</td>\n",
              "      <td>0.226446</td>\n",
              "      <td>0.026988</td>\n",
              "      <td>2.912365</td>\n",
              "      <td>12.286024</td>\n",
              "      <td>0.835035</td>\n",
              "      <td>0.181913</td>\n",
              "      <td>0.212108</td>\n",
              "      <td>0.211460</td>\n",
              "      <td>0.188752</td>\n",
              "      <td>0.047478</td>\n",
              "      <td>0.279070</td>\n",
              "      <td>1.069149</td>\n",
              "      <td>0.023438</td>\n",
              "      <td>6.820312</td>\n",
              "      <td>6.796875</td>\n",
              "      <td>0.098075</td>\n",
              "    </tr>\n",
              "    <tr>\n",
              "      <th>58</th>\n",
              "      <td>0.135650</td>\n",
              "      <td>0.086412</td>\n",
              "      <td>0.126722</td>\n",
              "      <td>0.049986</td>\n",
              "      <td>0.228842</td>\n",
              "      <td>0.178856</td>\n",
              "      <td>1.388276</td>\n",
              "      <td>5.009017</td>\n",
              "      <td>0.952514</td>\n",
              "      <td>0.659814</td>\n",
              "      <td>0.114812</td>\n",
              "      <td>0.135650</td>\n",
              "      <td>0.134314</td>\n",
              "      <td>0.060837</td>\n",
              "      <td>0.250000</td>\n",
              "      <td>1.108750</td>\n",
              "      <td>0.007812</td>\n",
              "      <td>4.296875</td>\n",
              "      <td>4.289062</td>\n",
              "      <td>0.369266</td>\n",
              "    </tr>\n",
              "  </tbody>\n",
              "</table>\n",
              "</div>"
            ],
            "text/plain": [
              "      meanfreq        sd    median  ...    maxdom   dfrange   modindx\n",
              "1059  0.192408  0.055248  0.210461  ...  7.875000  7.851562  0.111685\n",
              "448   0.194781  0.057615  0.207011  ...  0.796875  0.570312  0.367372\n",
              "542   0.140373  0.091465  0.151220  ...  0.007812  0.000000  0.000000\n",
              "2523  0.211460  0.031389  0.212108  ...  6.820312  6.796875  0.098075\n",
              "58    0.135650  0.086412  0.126722  ...  4.296875  4.289062  0.369266\n",
              "\n",
              "[5 rows x 20 columns]"
            ]
          },
          "metadata": {},
          "execution_count": 95
        }
      ]
    },
    {
      "cell_type": "code",
      "metadata": {
        "colab": {
          "base_uri": "https://localhost:8080/"
        },
        "id": "kL1Upn6o33nG",
        "outputId": "eec24be6-7a8e-4660-f4ed-21136d279b4a"
      },
      "source": [
        "y_test.head()"
      ],
      "execution_count": 96,
      "outputs": [
        {
          "output_type": "execute_result",
          "data": {
            "text/plain": [
              "2515    female\n",
              "1838    female\n",
              "414       male\n",
              "1735    female\n",
              "1261      male\n",
              "Name: label, dtype: object"
            ]
          },
          "metadata": {},
          "execution_count": 96
        }
      ]
    },
    {
      "cell_type": "markdown",
      "metadata": {
        "id": "lKdJFhPq5YJz"
      },
      "source": [
        "##Apply Support Vector Classifier on train data with different kernels and generate predictions on test data"
      ]
    },
    {
      "cell_type": "code",
      "metadata": {
        "id": "HKlsAf4f9Sc0"
      },
      "source": [
        "from sklearn.svm import SVC"
      ],
      "execution_count": 97,
      "outputs": []
    },
    {
      "cell_type": "code",
      "metadata": {
        "id": "mn6fWhszHdZt"
      },
      "source": [
        "df2 = df.copy()"
      ],
      "execution_count": 98,
      "outputs": []
    },
    {
      "cell_type": "code",
      "metadata": {
        "id": "t2N3kuRO9fgM"
      },
      "source": [
        "svc = SVC()"
      ],
      "execution_count": 99,
      "outputs": []
    },
    {
      "cell_type": "code",
      "metadata": {
        "colab": {
          "base_uri": "https://localhost:8080/"
        },
        "id": "u17wqfPj33hJ",
        "outputId": "1d755e33-e109-4098-eb40-6013ef9e7c06"
      },
      "source": [
        "kernels = {'linearkernels':'linear','polykernels':'poly','rbfkernals':'rbf'}\n",
        "for i in kernels.keys():\n",
        "  svc = SVC(kernel=kernels[i])\n",
        "  print(i)\n",
        "  print(svc.fit(x_train,y_train))\n",
        "  df2[i] = svc.predict(x)\n",
        "  exec(f'y_pred{i}=svc.predict(x_test)')\n",
        "  # print(f'y_pred{i}')"
      ],
      "execution_count": 100,
      "outputs": [
        {
          "output_type": "stream",
          "name": "stdout",
          "text": [
            "linearkernels\n",
            "SVC(C=1.0, break_ties=False, cache_size=200, class_weight=None, coef0=0.0,\n",
            "    decision_function_shape='ovr', degree=3, gamma='scale', kernel='linear',\n",
            "    max_iter=-1, probability=False, random_state=None, shrinking=True,\n",
            "    tol=0.001, verbose=False)\n",
            "polykernels\n",
            "SVC(C=1.0, break_ties=False, cache_size=200, class_weight=None, coef0=0.0,\n",
            "    decision_function_shape='ovr', degree=3, gamma='scale', kernel='poly',\n",
            "    max_iter=-1, probability=False, random_state=None, shrinking=True,\n",
            "    tol=0.001, verbose=False)\n",
            "rbfkernals\n",
            "SVC(C=1.0, break_ties=False, cache_size=200, class_weight=None, coef0=0.0,\n",
            "    decision_function_shape='ovr', degree=3, gamma='scale', kernel='rbf',\n",
            "    max_iter=-1, probability=False, random_state=None, shrinking=True,\n",
            "    tol=0.001, verbose=False)\n"
          ]
        }
      ]
    },
    {
      "cell_type": "markdown",
      "metadata": {
        "id": "CwtEHbHdOrpp"
      },
      "source": [
        "###y_predlinearkernels\n",
        "###y_predpolykernels\n",
        "###y_predrbfkernels\n",
        "different kernels y_prediction on x_test_data"
      ]
    },
    {
      "cell_type": "code",
      "metadata": {
        "colab": {
          "base_uri": "https://localhost:8080/"
        },
        "id": "PoUpuAaV325p",
        "outputId": "040f25cc-15d0-4ca4-e1f1-cef5892e97fa"
      },
      "source": [
        "y_predrbfkernals"
      ],
      "execution_count": 101,
      "outputs": [
        {
          "output_type": "execute_result",
          "data": {
            "text/plain": [
              "array(['female', 'female', 'male', 'male', 'male', 'male', 'male', 'male',\n",
              "       'female', 'female', 'male', 'female', 'male', 'male', 'female',\n",
              "       'male', 'male', 'male', 'female', 'female', 'male', 'female',\n",
              "       'female', 'male', 'female', 'female', 'female', 'female', 'male',\n",
              "       'male', 'male', 'male', 'male', 'male', 'male', 'male', 'male',\n",
              "       'female', 'male', 'male', 'male', 'female', 'female', 'male',\n",
              "       'male', 'female', 'female', 'male', 'female', 'female', 'male',\n",
              "       'female', 'male', 'male', 'male', 'male', 'male', 'male', 'male',\n",
              "       'male', 'female', 'female', 'male', 'male', 'male', 'female',\n",
              "       'male', 'female', 'male', 'male', 'female', 'male', 'male',\n",
              "       'female', 'female', 'male', 'male', 'male', 'male', 'male',\n",
              "       'female', 'male', 'male', 'female', 'male', 'male', 'female',\n",
              "       'male', 'female', 'female', 'female', 'male', 'male', 'male',\n",
              "       'female', 'male', 'male', 'male', 'male', 'female', 'female',\n",
              "       'male', 'female', 'male', 'male', 'male', 'female', 'male',\n",
              "       'female', 'female', 'male', 'male', 'male', 'male', 'female',\n",
              "       'male', 'male', 'male', 'male', 'male', 'male', 'male', 'female',\n",
              "       'male', 'male', 'male', 'female', 'male', 'female', 'female',\n",
              "       'female', 'female', 'male', 'female', 'male', 'male', 'female',\n",
              "       'female', 'male', 'female', 'male', 'female', 'female', 'male',\n",
              "       'female', 'male', 'male', 'female', 'male', 'male', 'male',\n",
              "       'female', 'female', 'male', 'male', 'male', 'male', 'male', 'male',\n",
              "       'male', 'male', 'female', 'male', 'male', 'male', 'male', 'female',\n",
              "       'male', 'male', 'female', 'female', 'male', 'female', 'female',\n",
              "       'female', 'female', 'female', 'male', 'male', 'male', 'male',\n",
              "       'male', 'female', 'male', 'female', 'male', 'male', 'female',\n",
              "       'female', 'male', 'male', 'female', 'male', 'female', 'male',\n",
              "       'male', 'male', 'male', 'male', 'female', 'male', 'male', 'male',\n",
              "       'female', 'male', 'male', 'female', 'male', 'female', 'female',\n",
              "       'female', 'male', 'female', 'male', 'male', 'male', 'male',\n",
              "       'female', 'male', 'female', 'female', 'male', 'female', 'male',\n",
              "       'male', 'female', 'female', 'male', 'male', 'male', 'female',\n",
              "       'male', 'female', 'female', 'male', 'female', 'male', 'male',\n",
              "       'male', 'male', 'male', 'male', 'male', 'male', 'male', 'female',\n",
              "       'female', 'female', 'female', 'male', 'female', 'male', 'male',\n",
              "       'female', 'female', 'male', 'female', 'male', 'male', 'male',\n",
              "       'male', 'male', 'male', 'male', 'male', 'female', 'male', 'female',\n",
              "       'female', 'male', 'male', 'female', 'male', 'male', 'male', 'male',\n",
              "       'female', 'male', 'female', 'female', 'male', 'male', 'male',\n",
              "       'male', 'male', 'male', 'male', 'male', 'female', 'male', 'male',\n",
              "       'female', 'female', 'male', 'male', 'male', 'male', 'female',\n",
              "       'female', 'male', 'male', 'male', 'male', 'male', 'male', 'male',\n",
              "       'male', 'female', 'male', 'female', 'male', 'male', 'female',\n",
              "       'female', 'male', 'female', 'male', 'male', 'male', 'female',\n",
              "       'female', 'female', 'male', 'male', 'male', 'male', 'female',\n",
              "       'male', 'female', 'female', 'male', 'female', 'male', 'female',\n",
              "       'male', 'male', 'female', 'female', 'female', 'female', 'female',\n",
              "       'male', 'male', 'male', 'male', 'male', 'male', 'male', 'male',\n",
              "       'female', 'male', 'male', 'female', 'male', 'female', 'male',\n",
              "       'male', 'male', 'male', 'female', 'male', 'male', 'female',\n",
              "       'female', 'male', 'male', 'male', 'male', 'female', 'female',\n",
              "       'male', 'male', 'female', 'female', 'male', 'male', 'female',\n",
              "       'male', 'male', 'male', 'male', 'female', 'male', 'male', 'female',\n",
              "       'male', 'male', 'male', 'female', 'female', 'female', 'male',\n",
              "       'male', 'male', 'male', 'female', 'male', 'male', 'female', 'male',\n",
              "       'male', 'female', 'male', 'male', 'male', 'male', 'male', 'female',\n",
              "       'female', 'male', 'male', 'female', 'female', 'female', 'male',\n",
              "       'male', 'male', 'female', 'male', 'female', 'male', 'female',\n",
              "       'male', 'male', 'male', 'male', 'male', 'female', 'male', 'male',\n",
              "       'male', 'female', 'male', 'male', 'male', 'male', 'female', 'male',\n",
              "       'male', 'female', 'male', 'female', 'female', 'male', 'male',\n",
              "       'male', 'male', 'male', 'female', 'female', 'female', 'female',\n",
              "       'male', 'male', 'male', 'male', 'female', 'male', 'male', 'male',\n",
              "       'male', 'male', 'female', 'male', 'female', 'male', 'male', 'male',\n",
              "       'male', 'female', 'female', 'female', 'male', 'female', 'female',\n",
              "       'female', 'male', 'female', 'female', 'male', 'male', 'male',\n",
              "       'female', 'male', 'male', 'male', 'male', 'female', 'male', 'male',\n",
              "       'male', 'female', 'male', 'male', 'male', 'male', 'male', 'female',\n",
              "       'female', 'female', 'male', 'male', 'male', 'male', 'female',\n",
              "       'female', 'male', 'male', 'female', 'male', 'male', 'female',\n",
              "       'male', 'male', 'male', 'female', 'male', 'female', 'male', 'male',\n",
              "       'male', 'female', 'male', 'male', 'male', 'female', 'female',\n",
              "       'female', 'male', 'male', 'male', 'female', 'female', 'male',\n",
              "       'female', 'male', 'male', 'male', 'female', 'female', 'female',\n",
              "       'male', 'male', 'female', 'female', 'female', 'male', 'female',\n",
              "       'male', 'male', 'male', 'female', 'male', 'male', 'male', 'female',\n",
              "       'female', 'female', 'male', 'male', 'male', 'male', 'female',\n",
              "       'male', 'male', 'male', 'male', 'female', 'male', 'male', 'male',\n",
              "       'male', 'male', 'male', 'male', 'female', 'female', 'male', 'male',\n",
              "       'female', 'female', 'female', 'male', 'male', 'male', 'male',\n",
              "       'male', 'male', 'male', 'female', 'male', 'female', 'male', 'male',\n",
              "       'male', 'male', 'male', 'male', 'female', 'male', 'female',\n",
              "       'female', 'female', 'male', 'male', 'female', 'male', 'male',\n",
              "       'male', 'male', 'male', 'male', 'male', 'male', 'male', 'female',\n",
              "       'male', 'female', 'male', 'female', 'male', 'male', 'male', 'male',\n",
              "       'male', 'male', 'female', 'male', 'male', 'female', 'female',\n",
              "       'male', 'female', 'female'], dtype=object)"
            ]
          },
          "metadata": {},
          "execution_count": 101
        }
      ]
    },
    {
      "cell_type": "markdown",
      "metadata": {
        "id": "2mDEIoKdP1Cy"
      },
      "source": [
        "Also generate confusion_matrix and classification report for each of them"
      ]
    },
    {
      "cell_type": "code",
      "metadata": {
        "id": "55LwkvW-g-FJ"
      },
      "source": [
        "from sklearn.metrics import classification_report,confusion_matrix"
      ],
      "execution_count": 102,
      "outputs": []
    },
    {
      "cell_type": "code",
      "metadata": {
        "colab": {
          "base_uri": "https://localhost:8080/"
        },
        "id": "O_y1mmr6tHCy",
        "outputId": "b20ef0ea-0a0f-4224-c99a-9a37075c77a7"
      },
      "source": [
        "print('linear')\n",
        "print(confusion_matrix(y_test,y_predlinearkernels))\n",
        "print('poly')\n",
        "print(confusion_matrix(y_test,y_predpolykernels))\n",
        "print('rbf')\n",
        "print(confusion_matrix(y_test,y_predrbfkernals))"
      ],
      "execution_count": 103,
      "outputs": [
        {
          "output_type": "stream",
          "name": "stdout",
          "text": [
            "linear\n",
            "[[260  51]\n",
            " [  9 314]]\n",
            "poly\n",
            "[[308   3]\n",
            " [310  13]]\n",
            "rbf\n",
            "[[167 144]\n",
            " [ 62 261]]\n"
          ]
        }
      ]
    },
    {
      "cell_type": "code",
      "metadata": {
        "colab": {
          "base_uri": "https://localhost:8080/"
        },
        "id": "Iy5AeBjy32pg",
        "outputId": "eb2a0a29-5623-4aeb-bf89-23370751a1d8"
      },
      "source": [
        "print(classification_report(y_test,y_predlinearkernels))\n",
        "print(classification_report(y_test,y_predpolykernels))\n",
        "print(classification_report(y_test,y_predrbfkernals))"
      ],
      "execution_count": 104,
      "outputs": [
        {
          "output_type": "stream",
          "name": "stdout",
          "text": [
            "              precision    recall  f1-score   support\n",
            "\n",
            "      female       0.97      0.84      0.90       311\n",
            "        male       0.86      0.97      0.91       323\n",
            "\n",
            "    accuracy                           0.91       634\n",
            "   macro avg       0.91      0.90      0.90       634\n",
            "weighted avg       0.91      0.91      0.90       634\n",
            "\n",
            "              precision    recall  f1-score   support\n",
            "\n",
            "      female       0.50      0.99      0.66       311\n",
            "        male       0.81      0.04      0.08       323\n",
            "\n",
            "    accuracy                           0.51       634\n",
            "   macro avg       0.66      0.52      0.37       634\n",
            "weighted avg       0.66      0.51      0.36       634\n",
            "\n",
            "              precision    recall  f1-score   support\n",
            "\n",
            "      female       0.73      0.54      0.62       311\n",
            "        male       0.64      0.81      0.72       323\n",
            "\n",
            "    accuracy                           0.68       634\n",
            "   macro avg       0.69      0.67      0.67       634\n",
            "weighted avg       0.69      0.68      0.67       634\n",
            "\n"
          ]
        }
      ]
    },
    {
      "cell_type": "markdown",
      "metadata": {
        "id": "Sw5i6F2yuLXJ"
      },
      "source": [
        "##Using Cross validation with 10 folds apply Support Vector Classifier and generate model accuracy and also compute mean accuracy for linear, rbf and poly kernels separately"
      ]
    },
    {
      "cell_type": "code",
      "metadata": {
        "id": "o0zb5QTv32Eo"
      },
      "source": [
        "from sklearn.model_selection import cross_val_score"
      ],
      "execution_count": 105,
      "outputs": []
    },
    {
      "cell_type": "code",
      "metadata": {
        "colab": {
          "base_uri": "https://localhost:8080/"
        },
        "id": "FoBxKEu13198",
        "outputId": "7e540882-eae2-4f82-9460-3b20c8bad494"
      },
      "source": [
        "for i in kernels.keys():\n",
        "  score = cross_val_score(SVC(kernel=kernels[i]),x,y,cv=10)\n",
        "  print('model accuracy : ',score)\n",
        "  print(f'At kernels: {i}, accuracy mean is {score.mean()}')\n",
        "  print(' ')\n"
      ],
      "execution_count": 106,
      "outputs": [
        {
          "output_type": "stream",
          "name": "stdout",
          "text": [
            "model accuracy :  [0.72239748 0.94321767 0.84542587 0.96214511 0.94006309 0.99684543\n",
            " 0.97791798 0.96845426 0.9335443  0.90189873]\n",
            "At kernels: linearkernels, accuracy mean is 0.9191909914946292\n",
            " \n",
            "model accuracy :  [0.58044164 0.53943218 0.45425868 0.5615142  0.50157729 0.50157729\n",
            " 0.50157729 0.50157729 0.48417722 0.50316456]\n",
            "At kernels: polykernels, accuracy mean is 0.5129297608114044\n",
            " \n",
            "model accuracy :  [0.51104101 0.5488959  0.63722397 0.69716088 0.73501577 0.76971609\n",
            " 0.75394322 0.67192429 0.61075949 0.65189873]\n",
            "At kernels: rbfkernals, accuracy mean is 0.658757936349479\n",
            " \n"
          ]
        }
      ]
    },
    {
      "cell_type": "markdown",
      "metadata": {
        "id": "gYAxS_3Z5hvb"
      },
      "source": [
        "Using C values in the range of 1-12 apply Cross validation for 4 folds for linear kernel and generate mean accuracy score. Plot C vs mean accuracy score on a line chart"
      ]
    },
    {
      "cell_type": "code",
      "metadata": {
        "id": "xvgbhR3t6b00"
      },
      "source": [
        "C = [w for w in range(1,13)]"
      ],
      "execution_count": 107,
      "outputs": []
    },
    {
      "cell_type": "code",
      "metadata": {
        "colab": {
          "base_uri": "https://localhost:8080/",
          "height": 926
        },
        "id": "pdjuwKKc313N",
        "outputId": "e485f022-224d-4bb1-8230-05b211ccaf29"
      },
      "source": [
        "Cs = []\n",
        "for i in C:\n",
        "  score = cross_val_score(SVC(C=i,kernel='linear'),x,y,cv=4)\n",
        "  print('model accuracy : ',score)\n",
        "  print(f'At C value: {i}, accuracy mean is {score.mean()}')\n",
        "  Cs.append(score.mean())\n",
        "  print(' ')\n",
        "plt.plot(C,Cs)\n",
        "plt.show()"
      ],
      "execution_count": 108,
      "outputs": [
        {
          "output_type": "stream",
          "name": "stdout",
          "text": [
            "model accuracy :  [0.80934343 0.93181818 0.97348485 0.93560606]\n",
            "At C value: 1, accuracy mean is 0.9125631313131313\n",
            " \n",
            "model accuracy :  [0.81691919 0.95959596 0.97727273 0.97348485]\n",
            "At C value: 2, accuracy mean is 0.9318181818181819\n",
            " \n",
            "model accuracy :  [0.83964646 0.96590909 0.97727273 0.97979798]\n",
            "At C value: 3, accuracy mean is 0.9406565656565656\n",
            " \n",
            "model accuracy :  [0.87878788 0.96590909 0.97853535 0.97979798]\n",
            "At C value: 4, accuracy mean is 0.9507575757575757\n",
            " \n",
            "model accuracy :  [0.90151515 0.96717172 0.98106061 0.98106061]\n",
            "At C value: 5, accuracy mean is 0.9577020202020201\n",
            " \n",
            "model accuracy :  [0.90782828 0.96590909 0.97853535 0.97979798]\n",
            "At C value: 6, accuracy mean is 0.9580176767676767\n",
            " \n",
            "model accuracy :  [0.91035354 0.96590909 0.97853535 0.98232323]\n",
            "At C value: 7, accuracy mean is 0.959280303030303\n",
            " \n",
            "model accuracy :  [0.91540404 0.96717172 0.97727273 0.97979798]\n",
            "At C value: 8, accuracy mean is 0.9599116161616161\n",
            " \n",
            "model accuracy :  [0.91666667 0.96590909 0.97727273 0.98106061]\n",
            "At C value: 9, accuracy mean is 0.9602272727272727\n",
            " \n",
            "model accuracy :  [0.9229798  0.96843434 0.97979798 0.97979798]\n",
            "At C value: 10, accuracy mean is 0.9627525252525252\n",
            " \n",
            "model accuracy :  [0.92045455 0.96717172 0.97727273 0.97979798]\n",
            "At C value: 11, accuracy mean is 0.9611742424242423\n",
            " \n",
            "model accuracy :  [0.92045455 0.96843434 0.97853535 0.97979798]\n",
            "At C value: 12, accuracy mean is 0.9618055555555555\n",
            " \n"
          ]
        },
        {
          "output_type": "display_data",
          "data": {
            "image/png": "[encoded data removed]",
            "text/plain": [
              "<Figure size 432x288 with 1 Axes>"
            ]
          },
          "metadata": {
            "needs_background": "light"
          }
        }
      ]
    },
    {
      "cell_type": "markdown",
      "metadata": {
        "id": "LDyXEoFZ7JZd"
      },
      "source": [
        "##Using C values in the range of 1-12 apply Cross validation for 4 folds for rbf kernel and generate mean accuracy score. Plot C vs mean accuracy score on a line chart"
      ]
    },
    {
      "cell_type": "code",
      "metadata": {
        "colab": {
          "base_uri": "https://localhost:8080/",
          "height": 926
        },
        "id": "h8wl0YWk31xD",
        "outputId": "005cb5fb-e33c-4c7e-98e3-7e9895bdf55a"
      },
      "source": [
        "Cs1=[]\n",
        "for i in C:\n",
        "  score = cross_val_score(SVC(C=i,kernel='rbf'),x,y,cv=4)\n",
        "  print('model accuracy : ',score)\n",
        "  print(f'At C value: {i}, accuracy mean is rbf kernel {score.mean()}')\n",
        "  Cs1.append(score.mean())\n",
        "  print(' ')\n",
        "\n",
        "plt.plot(C,Cs1)\n",
        "plt.show()"
      ],
      "execution_count": 111,
      "outputs": [
        {
          "output_type": "stream",
          "name": "stdout",
          "text": [
            "model accuracy :  [0.55176768 0.66035354 0.7020202  0.65025253]\n",
            "At C value: 1, accuracy mean is rbf kernel 0.6410984848484849\n",
            " \n",
            "model accuracy :  [0.56565657 0.68434343 0.6969697  0.65909091]\n",
            "At C value: 2, accuracy mean is rbf kernel 0.6515151515151515\n",
            " \n",
            "model accuracy :  [0.56691919 0.68055556 0.69318182 0.66540404]\n",
            "At C value: 3, accuracy mean is rbf kernel 0.6515151515151516\n",
            " \n",
            "model accuracy :  [0.56439394 0.68813131 0.69949495 0.66414141]\n",
            "At C value: 4, accuracy mean is rbf kernel 0.654040404040404\n",
            " \n",
            "model accuracy :  [0.56565657 0.68813131 0.70328283 0.66792929]\n",
            "At C value: 5, accuracy mean is rbf kernel 0.65625\n",
            " \n",
            "model accuracy :  [0.56313131 0.68181818 0.70328283 0.6729798 ]\n",
            "At C value: 6, accuracy mean is rbf kernel 0.6553030303030303\n",
            " \n",
            "model accuracy :  [0.56439394 0.68560606 0.70328283 0.67424242]\n",
            "At C value: 7, accuracy mean is rbf kernel 0.6568813131313131\n",
            " \n",
            "model accuracy :  [0.56186869 0.68686869 0.70580808 0.67676768]\n",
            "At C value: 8, accuracy mean is rbf kernel 0.6578282828282829\n",
            " \n",
            "model accuracy :  [0.56186869 0.68560606 0.70959596 0.67676768]\n",
            "At C value: 9, accuracy mean is rbf kernel 0.6584595959595959\n",
            " \n",
            "model accuracy :  [0.56313131 0.68813131 0.71085859 0.67676768]\n",
            "At C value: 10, accuracy mean is rbf kernel 0.6597222222222222\n",
            " \n",
            "model accuracy :  [0.56565657 0.68813131 0.71212121 0.6780303 ]\n",
            "At C value: 11, accuracy mean is rbf kernel 0.6609848484848485\n",
            " \n",
            "model accuracy :  [0.56565657 0.68686869 0.71590909 0.67676768]\n",
            "At C value: 12, accuracy mean is rbf kernel 0.6613005050505051\n",
            " \n"
          ]
        },
        {
          "output_type": "display_data",
          "data": {
            "image/png": "[encoded data removed]",
            "text/plain": [
              "<Figure size 432x288 with 1 Axes>"
            ]
          },
          "metadata": {
            "needs_background": "light"
          }
        }
      ]
    },
    {
      "cell_type": "markdown",
      "metadata": {
        "id": "T2Qs79Gf7iKC"
      },
      "source": [
        "##Using gamma values in the range given below apply Cross validation for 4 folds for rbf kernel and generate mean accuracy score. Plot gamma vs mean accuracy score on a line chart\n",
        "####a) gamma_range = [0.0001,0.001,0.01,0.1,1,10,100]\n",
        "####b) gamma_range = [0.01,0.02,0.03,0.04,0.05]"
      ]
    },
    {
      "cell_type": "code",
      "metadata": {
        "id": "IdT7n8d431qW"
      },
      "source": [
        "gamma_range = [0.0001,0.001,0.01,0.1,1,10,100]\n",
        "gamma_range1 = [0.01,0.02,0.03,0.04,0.05]"
      ],
      "execution_count": 112,
      "outputs": []
    },
    {
      "cell_type": "code",
      "metadata": {
        "colab": {
          "base_uri": "https://localhost:8080/"
        },
        "id": "jwSc2A2yAtwO",
        "outputId": "92703217-8d70-40c0-e2fd-ada9ecc7c535"
      },
      "source": [
        "gamma_range"
      ],
      "execution_count": 114,
      "outputs": [
        {
          "output_type": "execute_result",
          "data": {
            "text/plain": [
              "[0.0001, 0.001, 0.01, 0.1, 1, 10, 100]"
            ]
          },
          "metadata": {},
          "execution_count": 114
        }
      ]
    },
    {
      "cell_type": "code",
      "metadata": {
        "colab": {
          "base_uri": "https://localhost:8080/",
          "height": 651
        },
        "id": "IDlfzzE131j_",
        "outputId": "46f6001c-d763-487d-9b40-5bab8cfb556d"
      },
      "source": [
        "gs = []\n",
        "for i in gamma_range:\n",
        "  score = cross_val_score(SVC(kernel='rbf',gamma=i),x,y,cv=4)\n",
        "  print('model accuracy : ',score)\n",
        "  print(f'At gamma value: {i}, accuracy mean is {score.mean()*100}')\n",
        "  gs.append(score.mean())\n",
        "  print(' ')\n",
        "\n",
        "plt.plot(gamma_range,gs)\n",
        "plt.show()"
      ],
      "execution_count": 115,
      "outputs": [
        {
          "output_type": "stream",
          "name": "stdout",
          "text": [
            "model accuracy :  [0.55681818 0.6729798  0.71212121 0.6729798 ]\n",
            "At gamma value: 0.0001, accuracy mean is 65.37247474747474\n",
            " \n",
            "model accuracy :  [0.56691919 0.66414141 0.71590909 0.65151515]\n",
            "At gamma value: 0.001, accuracy mean is 64.9621212121212\n",
            " \n",
            "model accuracy :  [0.57954545 0.69191919 0.73106061 0.66414141]\n",
            "At gamma value: 0.01, accuracy mean is 66.66666666666667\n",
            " \n",
            "model accuracy :  [0.55681818 0.72727273 0.73611111 0.66666667]\n",
            "At gamma value: 0.1, accuracy mean is 67.17171717171718\n",
            " \n",
            "model accuracy :  [0.55934343 0.77146465 0.74621212 0.66287879]\n",
            "At gamma value: 1, accuracy mean is 68.49747474747474\n",
            " \n",
            "model accuracy :  [0.57070707 0.70833333 0.71338384 0.71969697]\n",
            "At gamma value: 10, accuracy mean is 67.8030303030303\n",
            " \n",
            "model accuracy :  [0.51641414 0.51893939 0.53409091 0.49873737]\n",
            "At gamma value: 100, accuracy mean is 51.70454545454546\n",
            " \n"
          ]
        },
        {
          "output_type": "display_data",
          "data": {
            "image/png": "[encoded data removed]",
            "text/plain": [
              "<Figure size 432x288 with 1 Axes>"
            ]
          },
          "metadata": {
            "needs_background": "light"
          }
        }
      ]
    },
    {
      "cell_type": "code",
      "metadata": {
        "colab": {
          "base_uri": "https://localhost:8080/",
          "height": 541
        },
        "id": "YO0bP-wV31dF",
        "outputId": "d8ad554f-51b0-414c-e9bc-d6b17f98ea65"
      },
      "source": [
        "gs1 = []\n",
        "for i in gamma_range1:\n",
        "  score = cross_val_score(SVC(kernel='rbf',gamma=i),x,y,cv=4)\n",
        "  print('model accuracy : ',score)\n",
        "  print(f'At gamma value: {i}, accuracy mean is {score.mean()*100}')\n",
        "  gs1.append(score.mean())\n",
        "  print(' ')\n",
        "\n",
        "plt.plot(gamma_range1,gs1)\n",
        "plt.show()"
      ],
      "execution_count": 116,
      "outputs": [
        {
          "output_type": "stream",
          "name": "stdout",
          "text": [
            "model accuracy :  [0.57954545 0.69191919 0.73106061 0.66414141]\n",
            "At gamma value: 0.01, accuracy mean is 66.66666666666667\n",
            " \n",
            "model accuracy :  [0.59848485 0.70454545 0.73737374 0.66414141]\n",
            "At gamma value: 0.02, accuracy mean is 67.61363636363637\n",
            " \n",
            "model accuracy :  [0.60606061 0.71464646 0.74242424 0.66919192]\n",
            "At gamma value: 0.03, accuracy mean is 68.3080808080808\n",
            " \n",
            "model accuracy :  [0.61111111 0.70959596 0.74242424 0.67171717]\n",
            "At gamma value: 0.04, accuracy mean is 68.37121212121212\n",
            " \n",
            "model accuracy :  [0.60858586 0.70454545 0.73863636 0.66792929]\n",
            "At gamma value: 0.05, accuracy mean is 67.99242424242425\n",
            " \n"
          ]
        },
        {
          "output_type": "display_data",
          "data": {
            "image/png": "[encoded data removed]",
            "text/plain": [
              "<Figure size 432x288 with 1 Axes>"
            ]
          },
          "metadata": {
            "needs_background": "light"
          }
        }
      ]
    },
    {
      "cell_type": "markdown",
      "metadata": {
        "id": "GoyUV3bnVipV"
      },
      "source": [
        "###Using degree values in the range of 1-6 apply Cross validation for 4 folds for poly kernel and generate mean accuracy score. Plot degree vs mean accuracy score on a line chart"
      ]
    },
    {
      "cell_type": "code",
      "metadata": {
        "id": "Zv0WrTAC31Pa"
      },
      "source": [
        "degree = [d for d in range(1,6)]"
      ],
      "execution_count": 126,
      "outputs": []
    },
    {
      "cell_type": "code",
      "metadata": {
        "colab": {
          "base_uri": "https://localhost:8080/",
          "height": 545
        },
        "id": "R_3gnoi731WR",
        "outputId": "e80d2666-48b5-488a-f94a-85ec68643ba5"
      },
      "source": [
        "d1 = []\n",
        "for i in degree:\n",
        "  score = cross_val_score(SVC(kernel='poly',degree=i),x,y,cv=4)\n",
        "  print('model accuracy : ',score)\n",
        "  print(f'At degree: {i}, accuracy mean is {score.mean()}')\n",
        "  d1.append(score.mean())\n",
        "  print(' ')\n",
        "\n",
        "plt.plot(degree,d1)\n",
        "plt.show()"
      ],
      "execution_count": 127,
      "outputs": [
        {
          "output_type": "stream",
          "name": "stdout",
          "text": [
            "model accuracy :  [0.56313131 0.52020202 0.5        0.45454545]\n",
            "At degree: 1, accuracy mean is 0.509469696969697\n",
            " \n",
            "model accuracy :  [0.55176768 0.52020202 0.5        0.49621212]\n",
            "At degree: 2, accuracy mean is 0.5170454545454546\n",
            " \n",
            "model accuracy :  [0.53914141 0.52020202 0.5        0.49494949]\n",
            "At degree: 3, accuracy mean is 0.5135732323232323\n",
            " \n",
            "model accuracy :  [0.56313131 0.52146465 0.5        0.5       ]\n",
            "At degree: 4, accuracy mean is 0.52114898989899\n",
            " \n",
            "model accuracy :  [0.56691919 0.5239899  0.5        0.50252525]\n",
            "At degree: 5, accuracy mean is 0.5233585858585859\n",
            " \n"
          ]
        },
        {
          "output_type": "display_data",
          "data": {
            "image/png": "[encoded data removed]",
            "text/plain": [
              "<Figure size 432x288 with 1 Axes>"
            ]
          },
          "metadata": {
            "needs_background": "light"
          }
        }
      ]
    },
    {
      "cell_type": "markdown",
      "metadata": {
        "id": "mqYThH2XctRF"
      },
      "source": [
        "#..........................................END..............................."
      ]
    }
  ]
}