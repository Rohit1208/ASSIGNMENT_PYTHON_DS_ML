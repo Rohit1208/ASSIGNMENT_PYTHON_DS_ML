{
  "nbformat": 4,
  "nbformat_minor": 0,
  "metadata": {
    "kernelspec": {
      "display_name": "Python 3",
      "language": "python",
      "name": "python3"
    },
    "language_info": {
      "codemirror_mode": {
        "name": "ipython",
        "version": 3
      },
      "file_extension": ".py",
      "mimetype": "text/x-python",
      "name": "python",
      "nbconvert_exporter": "python",
      "pygments_lexer": "ipython3",
      "version": "3.7.3"
    },
    "colab": {
      "name": "LinReg_Heating_Cooling_Load_Project.ipynb",
      "provenance": [],
      "collapsed_sections": []
    }
  },
  "cells": [
    {
      "cell_type": "markdown",
      "metadata": {
        "id": "pcSD1wbfJXr8"
      },
      "source": [
        "#### Features/Column Description :-\n",
        "\n",
        "1) X1 - Relative Compactness<br>\n",
        "2) X2 - Surface Area<br>\n",
        "3) X3 - Wall Area<br>\n",
        "4) X4 - Roof Area<br>\n",
        "5) X5 - Overall Height<br>\n",
        "6) X6 - Orientation<br>\n",
        "7) X7 - Glazing Area<br>\n",
        "8) X8 - Glazing Area Distrbution<br>\n",
        "9) Y1 - Heating Load<br>\n",
        "10) Y2 - Cooling Load\n"
      ]
    },
    {
      "cell_type": "markdown",
      "metadata": {
        "id": "OUKxTkPXJXsU"
      },
      "source": [
        "<b>Regression Task</b><br>\n",
        "Use the given dataset and perform the following:-\n",
        "<ol>\n",
        "<li> Read the 'heat_load.xlsx' dataset.</li>\n",
        "<li> Rename the columns as per the given features</li> \n",
        "<li> Remove/handle null values if any</li>    \n",
        "<li> Considering all the features as independent features (except heating and cooling load) Split the dataset into training and test dataset with test_size = 25%</li>\n",
        "<li> Predict the Heating load based on features from X1 to X8 and also calculate\n",
        "the model score. Also find the intercept and the coefficients corresponding to\n",
        "each of these features. Generate equation of Linear regression</li>\n",
        "<li>Predict the Cooling load based on features from X1 to X8 and also calculate\n",
        "the model score. Also find the intercept and the coefficients corresponding \n",
        "to each of these features. Generate equation of Linear regression</li>\n",
        "<li> Compute MSE, MAE, RMSE for two scenarios(5 and 6)</li> \n",
        "<li>Select appropriate independent features based on Correlation matrix</li>\n",
        "<li>Repeat Q5 and Q7 for heating load after the original dataset has been split into training and testing dataset with test_szie=25% with appropriate independent features selected from correlation matrix</li>\n",
        "<li>Repeat Q6 and Q7 for cooling load after the original dataset has been split into training and testing dataset with test_szie=25% with appropriate independent features selected from correlation matrix</li>   \n",
        "</ol>"
      ]
    },
    {
      "cell_type": "code",
      "metadata": {
        "id": "fvXoHRV7JXsf"
      },
      "source": [
        "import pandas as pd\n",
        "import matplotlib.pyplot as plt\n",
        "import numpy as np\n",
        "import seaborn as sns"
      ],
      "execution_count": null,
      "outputs": []
    },
    {
      "cell_type": "code",
      "metadata": {
        "id": "GnXIcARiKH76"
      },
      "source": [
        "df = pd.read_excel('/content/heat_load.xlsx')"
      ],
      "execution_count": null,
      "outputs": []
    },
    {
      "cell_type": "code",
      "metadata": {
        "colab": {
          "base_uri": "https://localhost:8080/",
          "height": 424
        },
        "id": "xDAaUHI2KOv7",
        "outputId": "714457f9-fa70-48df-c73f-b1d1bcb83981"
      },
      "source": [
        "df"
      ],
      "execution_count": null,
      "outputs": [
        {
          "output_type": "execute_result",
          "data": {
            "text/html": [
              "<div>\n",
              "<style scoped>\n",
              "    .dataframe tbody tr th:only-of-type {\n",
              "        vertical-align: middle;\n",
              "    }\n",
              "\n",
              "    .dataframe tbody tr th {\n",
              "        vertical-align: top;\n",
              "    }\n",
              "\n",
              "    .dataframe thead th {\n",
              "        text-align: right;\n",
              "    }\n",
              "</style>\n",
              "<table border=\"1\" class=\"dataframe\">\n",
              "  <thead>\n",
              "    <tr style=\"text-align: right;\">\n",
              "      <th></th>\n",
              "      <th>X1</th>\n",
              "      <th>X2</th>\n",
              "      <th>X3</th>\n",
              "      <th>X4</th>\n",
              "      <th>X5</th>\n",
              "      <th>X6</th>\n",
              "      <th>X7</th>\n",
              "      <th>X8</th>\n",
              "      <th>Y1</th>\n",
              "      <th>Y2</th>\n",
              "    </tr>\n",
              "  </thead>\n",
              "  <tbody>\n",
              "    <tr>\n",
              "      <th>0</th>\n",
              "      <td>0.98</td>\n",
              "      <td>514.5</td>\n",
              "      <td>294.0</td>\n",
              "      <td>110.25</td>\n",
              "      <td>7.0</td>\n",
              "      <td>2</td>\n",
              "      <td>0.0</td>\n",
              "      <td>0</td>\n",
              "      <td>15.55</td>\n",
              "      <td>21.33</td>\n",
              "    </tr>\n",
              "    <tr>\n",
              "      <th>1</th>\n",
              "      <td>0.98</td>\n",
              "      <td>514.5</td>\n",
              "      <td>294.0</td>\n",
              "      <td>110.25</td>\n",
              "      <td>7.0</td>\n",
              "      <td>3</td>\n",
              "      <td>0.0</td>\n",
              "      <td>0</td>\n",
              "      <td>15.55</td>\n",
              "      <td>21.33</td>\n",
              "    </tr>\n",
              "    <tr>\n",
              "      <th>2</th>\n",
              "      <td>0.98</td>\n",
              "      <td>514.5</td>\n",
              "      <td>294.0</td>\n",
              "      <td>110.25</td>\n",
              "      <td>7.0</td>\n",
              "      <td>4</td>\n",
              "      <td>0.0</td>\n",
              "      <td>0</td>\n",
              "      <td>15.55</td>\n",
              "      <td>21.33</td>\n",
              "    </tr>\n",
              "    <tr>\n",
              "      <th>3</th>\n",
              "      <td>0.98</td>\n",
              "      <td>514.5</td>\n",
              "      <td>294.0</td>\n",
              "      <td>110.25</td>\n",
              "      <td>7.0</td>\n",
              "      <td>5</td>\n",
              "      <td>0.0</td>\n",
              "      <td>0</td>\n",
              "      <td>15.55</td>\n",
              "      <td>21.33</td>\n",
              "    </tr>\n",
              "    <tr>\n",
              "      <th>4</th>\n",
              "      <td>0.90</td>\n",
              "      <td>563.5</td>\n",
              "      <td>318.5</td>\n",
              "      <td>122.50</td>\n",
              "      <td>7.0</td>\n",
              "      <td>2</td>\n",
              "      <td>0.0</td>\n",
              "      <td>0</td>\n",
              "      <td>20.84</td>\n",
              "      <td>28.28</td>\n",
              "    </tr>\n",
              "    <tr>\n",
              "      <th>...</th>\n",
              "      <td>...</td>\n",
              "      <td>...</td>\n",
              "      <td>...</td>\n",
              "      <td>...</td>\n",
              "      <td>...</td>\n",
              "      <td>...</td>\n",
              "      <td>...</td>\n",
              "      <td>...</td>\n",
              "      <td>...</td>\n",
              "      <td>...</td>\n",
              "    </tr>\n",
              "    <tr>\n",
              "      <th>763</th>\n",
              "      <td>0.64</td>\n",
              "      <td>784.0</td>\n",
              "      <td>343.0</td>\n",
              "      <td>220.50</td>\n",
              "      <td>3.5</td>\n",
              "      <td>5</td>\n",
              "      <td>0.4</td>\n",
              "      <td>5</td>\n",
              "      <td>17.88</td>\n",
              "      <td>21.40</td>\n",
              "    </tr>\n",
              "    <tr>\n",
              "      <th>764</th>\n",
              "      <td>0.62</td>\n",
              "      <td>808.5</td>\n",
              "      <td>367.5</td>\n",
              "      <td>220.50</td>\n",
              "      <td>3.5</td>\n",
              "      <td>2</td>\n",
              "      <td>0.4</td>\n",
              "      <td>5</td>\n",
              "      <td>16.54</td>\n",
              "      <td>16.88</td>\n",
              "    </tr>\n",
              "    <tr>\n",
              "      <th>765</th>\n",
              "      <td>0.62</td>\n",
              "      <td>808.5</td>\n",
              "      <td>367.5</td>\n",
              "      <td>220.50</td>\n",
              "      <td>3.5</td>\n",
              "      <td>3</td>\n",
              "      <td>0.4</td>\n",
              "      <td>5</td>\n",
              "      <td>16.44</td>\n",
              "      <td>17.11</td>\n",
              "    </tr>\n",
              "    <tr>\n",
              "      <th>766</th>\n",
              "      <td>0.62</td>\n",
              "      <td>808.5</td>\n",
              "      <td>367.5</td>\n",
              "      <td>220.50</td>\n",
              "      <td>3.5</td>\n",
              "      <td>4</td>\n",
              "      <td>0.4</td>\n",
              "      <td>5</td>\n",
              "      <td>16.48</td>\n",
              "      <td>16.61</td>\n",
              "    </tr>\n",
              "    <tr>\n",
              "      <th>767</th>\n",
              "      <td>0.62</td>\n",
              "      <td>808.5</td>\n",
              "      <td>367.5</td>\n",
              "      <td>220.50</td>\n",
              "      <td>3.5</td>\n",
              "      <td>5</td>\n",
              "      <td>0.4</td>\n",
              "      <td>5</td>\n",
              "      <td>16.64</td>\n",
              "      <td>16.03</td>\n",
              "    </tr>\n",
              "  </tbody>\n",
              "</table>\n",
              "<p>768 rows × 10 columns</p>\n",
              "</div>"
            ],
            "text/plain": [
              "       X1     X2     X3      X4   X5  X6   X7  X8     Y1     Y2\n",
              "0    0.98  514.5  294.0  110.25  7.0   2  0.0   0  15.55  21.33\n",
              "1    0.98  514.5  294.0  110.25  7.0   3  0.0   0  15.55  21.33\n",
              "2    0.98  514.5  294.0  110.25  7.0   4  0.0   0  15.55  21.33\n",
              "3    0.98  514.5  294.0  110.25  7.0   5  0.0   0  15.55  21.33\n",
              "4    0.90  563.5  318.5  122.50  7.0   2  0.0   0  20.84  28.28\n",
              "..    ...    ...    ...     ...  ...  ..  ...  ..    ...    ...\n",
              "763  0.64  784.0  343.0  220.50  3.5   5  0.4   5  17.88  21.40\n",
              "764  0.62  808.5  367.5  220.50  3.5   2  0.4   5  16.54  16.88\n",
              "765  0.62  808.5  367.5  220.50  3.5   3  0.4   5  16.44  17.11\n",
              "766  0.62  808.5  367.5  220.50  3.5   4  0.4   5  16.48  16.61\n",
              "767  0.62  808.5  367.5  220.50  3.5   5  0.4   5  16.64  16.03\n",
              "\n",
              "[768 rows x 10 columns]"
            ]
          },
          "metadata": {
            "tags": []
          },
          "execution_count": 3
        }
      ]
    },
    {
      "cell_type": "code",
      "metadata": {
        "id": "ThmjG4gnVTVe"
      },
      "source": [
        "df.rename(columns={'X1':'Relative Compactness','X2':'Surface Area','X3' :'Wall Area','X4' :'Roof Area','X5':'Overall Height',\n",
        "                   'X6':'Orientation','X7':'Glazing Area','X8':'Glazing Area Distrbution',\n",
        "                   'Y1':'Heating Load','Y2' : 'Cooling Load'},inplace=True)"
      ],
      "execution_count": null,
      "outputs": []
    },
    {
      "cell_type": "code",
      "metadata": {
        "colab": {
          "base_uri": "https://localhost:8080/",
          "height": 424
        },
        "id": "Lxb0cZ-sXiIk",
        "outputId": "10e96197-f2b2-49a5-b86a-7f4a66535982"
      },
      "source": [
        "df"
      ],
      "execution_count": null,
      "outputs": [
        {
          "output_type": "execute_result",
          "data": {
            "text/html": [
              "<div>\n",
              "<style scoped>\n",
              "    .dataframe tbody tr th:only-of-type {\n",
              "        vertical-align: middle;\n",
              "    }\n",
              "\n",
              "    .dataframe tbody tr th {\n",
              "        vertical-align: top;\n",
              "    }\n",
              "\n",
              "    .dataframe thead th {\n",
              "        text-align: right;\n",
              "    }\n",
              "</style>\n",
              "<table border=\"1\" class=\"dataframe\">\n",
              "  <thead>\n",
              "    <tr style=\"text-align: right;\">\n",
              "      <th></th>\n",
              "      <th>Relative Compactness</th>\n",
              "      <th>Surface Area</th>\n",
              "      <th>Wall Area</th>\n",
              "      <th>Roof Area</th>\n",
              "      <th>Overall Height</th>\n",
              "      <th>Orientation</th>\n",
              "      <th>Glazing Area</th>\n",
              "      <th>Glazing Area Distrbution</th>\n",
              "      <th>Heating Load</th>\n",
              "      <th>Cooling Load</th>\n",
              "    </tr>\n",
              "  </thead>\n",
              "  <tbody>\n",
              "    <tr>\n",
              "      <th>0</th>\n",
              "      <td>0.98</td>\n",
              "      <td>514.5</td>\n",
              "      <td>294.0</td>\n",
              "      <td>110.25</td>\n",
              "      <td>7.0</td>\n",
              "      <td>2</td>\n",
              "      <td>0.0</td>\n",
              "      <td>0</td>\n",
              "      <td>15.55</td>\n",
              "      <td>21.33</td>\n",
              "    </tr>\n",
              "    <tr>\n",
              "      <th>1</th>\n",
              "      <td>0.98</td>\n",
              "      <td>514.5</td>\n",
              "      <td>294.0</td>\n",
              "      <td>110.25</td>\n",
              "      <td>7.0</td>\n",
              "      <td>3</td>\n",
              "      <td>0.0</td>\n",
              "      <td>0</td>\n",
              "      <td>15.55</td>\n",
              "      <td>21.33</td>\n",
              "    </tr>\n",
              "    <tr>\n",
              "      <th>2</th>\n",
              "      <td>0.98</td>\n",
              "      <td>514.5</td>\n",
              "      <td>294.0</td>\n",
              "      <td>110.25</td>\n",
              "      <td>7.0</td>\n",
              "      <td>4</td>\n",
              "      <td>0.0</td>\n",
              "      <td>0</td>\n",
              "      <td>15.55</td>\n",
              "      <td>21.33</td>\n",
              "    </tr>\n",
              "    <tr>\n",
              "      <th>3</th>\n",
              "      <td>0.98</td>\n",
              "      <td>514.5</td>\n",
              "      <td>294.0</td>\n",
              "      <td>110.25</td>\n",
              "      <td>7.0</td>\n",
              "      <td>5</td>\n",
              "      <td>0.0</td>\n",
              "      <td>0</td>\n",
              "      <td>15.55</td>\n",
              "      <td>21.33</td>\n",
              "    </tr>\n",
              "    <tr>\n",
              "      <th>4</th>\n",
              "      <td>0.90</td>\n",
              "      <td>563.5</td>\n",
              "      <td>318.5</td>\n",
              "      <td>122.50</td>\n",
              "      <td>7.0</td>\n",
              "      <td>2</td>\n",
              "      <td>0.0</td>\n",
              "      <td>0</td>\n",
              "      <td>20.84</td>\n",
              "      <td>28.28</td>\n",
              "    </tr>\n",
              "    <tr>\n",
              "      <th>...</th>\n",
              "      <td>...</td>\n",
              "      <td>...</td>\n",
              "      <td>...</td>\n",
              "      <td>...</td>\n",
              "      <td>...</td>\n",
              "      <td>...</td>\n",
              "      <td>...</td>\n",
              "      <td>...</td>\n",
              "      <td>...</td>\n",
              "      <td>...</td>\n",
              "    </tr>\n",
              "    <tr>\n",
              "      <th>763</th>\n",
              "      <td>0.64</td>\n",
              "      <td>784.0</td>\n",
              "      <td>343.0</td>\n",
              "      <td>220.50</td>\n",
              "      <td>3.5</td>\n",
              "      <td>5</td>\n",
              "      <td>0.4</td>\n",
              "      <td>5</td>\n",
              "      <td>17.88</td>\n",
              "      <td>21.40</td>\n",
              "    </tr>\n",
              "    <tr>\n",
              "      <th>764</th>\n",
              "      <td>0.62</td>\n",
              "      <td>808.5</td>\n",
              "      <td>367.5</td>\n",
              "      <td>220.50</td>\n",
              "      <td>3.5</td>\n",
              "      <td>2</td>\n",
              "      <td>0.4</td>\n",
              "      <td>5</td>\n",
              "      <td>16.54</td>\n",
              "      <td>16.88</td>\n",
              "    </tr>\n",
              "    <tr>\n",
              "      <th>765</th>\n",
              "      <td>0.62</td>\n",
              "      <td>808.5</td>\n",
              "      <td>367.5</td>\n",
              "      <td>220.50</td>\n",
              "      <td>3.5</td>\n",
              "      <td>3</td>\n",
              "      <td>0.4</td>\n",
              "      <td>5</td>\n",
              "      <td>16.44</td>\n",
              "      <td>17.11</td>\n",
              "    </tr>\n",
              "    <tr>\n",
              "      <th>766</th>\n",
              "      <td>0.62</td>\n",
              "      <td>808.5</td>\n",
              "      <td>367.5</td>\n",
              "      <td>220.50</td>\n",
              "      <td>3.5</td>\n",
              "      <td>4</td>\n",
              "      <td>0.4</td>\n",
              "      <td>5</td>\n",
              "      <td>16.48</td>\n",
              "      <td>16.61</td>\n",
              "    </tr>\n",
              "    <tr>\n",
              "      <th>767</th>\n",
              "      <td>0.62</td>\n",
              "      <td>808.5</td>\n",
              "      <td>367.5</td>\n",
              "      <td>220.50</td>\n",
              "      <td>3.5</td>\n",
              "      <td>5</td>\n",
              "      <td>0.4</td>\n",
              "      <td>5</td>\n",
              "      <td>16.64</td>\n",
              "      <td>16.03</td>\n",
              "    </tr>\n",
              "  </tbody>\n",
              "</table>\n",
              "<p>768 rows × 10 columns</p>\n",
              "</div>"
            ],
            "text/plain": [
              "     Relative Compactness  Surface Area  ...  Heating Load  Cooling Load\n",
              "0                    0.98         514.5  ...         15.55         21.33\n",
              "1                    0.98         514.5  ...         15.55         21.33\n",
              "2                    0.98         514.5  ...         15.55         21.33\n",
              "3                    0.98         514.5  ...         15.55         21.33\n",
              "4                    0.90         563.5  ...         20.84         28.28\n",
              "..                    ...           ...  ...           ...           ...\n",
              "763                  0.64         784.0  ...         17.88         21.40\n",
              "764                  0.62         808.5  ...         16.54         16.88\n",
              "765                  0.62         808.5  ...         16.44         17.11\n",
              "766                  0.62         808.5  ...         16.48         16.61\n",
              "767                  0.62         808.5  ...         16.64         16.03\n",
              "\n",
              "[768 rows x 10 columns]"
            ]
          },
          "metadata": {
            "tags": []
          },
          "execution_count": 5
        }
      ]
    },
    {
      "cell_type": "code",
      "metadata": {
        "colab": {
          "base_uri": "https://localhost:8080/"
        },
        "id": "lG2JTCcyW-nk",
        "outputId": "3a8e9138-e7a0-4af4-84d5-bf6dea30f7a4"
      },
      "source": [
        "df.isnull().sum()"
      ],
      "execution_count": null,
      "outputs": [
        {
          "output_type": "execute_result",
          "data": {
            "text/plain": [
              "Relative Compactness        0\n",
              "Surface Area                0\n",
              "Wall Area                   0\n",
              "Roof Area                   0\n",
              "Overall Height              0\n",
              "Orientation                 0\n",
              "Glazing Area                0\n",
              "Glazing Area Distrbution    0\n",
              "Heating Load                0\n",
              "Cooling Load                0\n",
              "dtype: int64"
            ]
          },
          "metadata": {
            "tags": []
          },
          "execution_count": 6
        }
      ]
    },
    {
      "cell_type": "code",
      "metadata": {
        "id": "PgfK0YCoaCi4"
      },
      "source": [
        "x = df.iloc[:,:-2]\n",
        "y = df.iloc[:,-2:]"
      ],
      "execution_count": null,
      "outputs": []
    },
    {
      "cell_type": "code",
      "metadata": {
        "colab": {
          "base_uri": "https://localhost:8080/",
          "height": 424
        },
        "id": "svioSF3Rf1EC",
        "outputId": "195a2bfa-7697-4fd9-94a9-6dc526eb2dc3"
      },
      "source": [
        "y.squeeze()"
      ],
      "execution_count": null,
      "outputs": [
        {
          "output_type": "execute_result",
          "data": {
            "text/html": [
              "<div>\n",
              "<style scoped>\n",
              "    .dataframe tbody tr th:only-of-type {\n",
              "        vertical-align: middle;\n",
              "    }\n",
              "\n",
              "    .dataframe tbody tr th {\n",
              "        vertical-align: top;\n",
              "    }\n",
              "\n",
              "    .dataframe thead th {\n",
              "        text-align: right;\n",
              "    }\n",
              "</style>\n",
              "<table border=\"1\" class=\"dataframe\">\n",
              "  <thead>\n",
              "    <tr style=\"text-align: right;\">\n",
              "      <th></th>\n",
              "      <th>Heating Load</th>\n",
              "      <th>Cooling Load</th>\n",
              "    </tr>\n",
              "  </thead>\n",
              "  <tbody>\n",
              "    <tr>\n",
              "      <th>0</th>\n",
              "      <td>15.55</td>\n",
              "      <td>21.33</td>\n",
              "    </tr>\n",
              "    <tr>\n",
              "      <th>1</th>\n",
              "      <td>15.55</td>\n",
              "      <td>21.33</td>\n",
              "    </tr>\n",
              "    <tr>\n",
              "      <th>2</th>\n",
              "      <td>15.55</td>\n",
              "      <td>21.33</td>\n",
              "    </tr>\n",
              "    <tr>\n",
              "      <th>3</th>\n",
              "      <td>15.55</td>\n",
              "      <td>21.33</td>\n",
              "    </tr>\n",
              "    <tr>\n",
              "      <th>4</th>\n",
              "      <td>20.84</td>\n",
              "      <td>28.28</td>\n",
              "    </tr>\n",
              "    <tr>\n",
              "      <th>...</th>\n",
              "      <td>...</td>\n",
              "      <td>...</td>\n",
              "    </tr>\n",
              "    <tr>\n",
              "      <th>763</th>\n",
              "      <td>17.88</td>\n",
              "      <td>21.40</td>\n",
              "    </tr>\n",
              "    <tr>\n",
              "      <th>764</th>\n",
              "      <td>16.54</td>\n",
              "      <td>16.88</td>\n",
              "    </tr>\n",
              "    <tr>\n",
              "      <th>765</th>\n",
              "      <td>16.44</td>\n",
              "      <td>17.11</td>\n",
              "    </tr>\n",
              "    <tr>\n",
              "      <th>766</th>\n",
              "      <td>16.48</td>\n",
              "      <td>16.61</td>\n",
              "    </tr>\n",
              "    <tr>\n",
              "      <th>767</th>\n",
              "      <td>16.64</td>\n",
              "      <td>16.03</td>\n",
              "    </tr>\n",
              "  </tbody>\n",
              "</table>\n",
              "<p>768 rows × 2 columns</p>\n",
              "</div>"
            ],
            "text/plain": [
              "     Heating Load  Cooling Load\n",
              "0           15.55         21.33\n",
              "1           15.55         21.33\n",
              "2           15.55         21.33\n",
              "3           15.55         21.33\n",
              "4           20.84         28.28\n",
              "..            ...           ...\n",
              "763         17.88         21.40\n",
              "764         16.54         16.88\n",
              "765         16.44         17.11\n",
              "766         16.48         16.61\n",
              "767         16.64         16.03\n",
              "\n",
              "[768 rows x 2 columns]"
            ]
          },
          "metadata": {
            "tags": []
          },
          "execution_count": 8
        }
      ]
    },
    {
      "cell_type": "code",
      "metadata": {
        "id": "3_So7OjOaVP1"
      },
      "source": [
        "yH = y.iloc[:,:-1]\n",
        "yC = y.iloc[:,-1]"
      ],
      "execution_count": null,
      "outputs": []
    },
    {
      "cell_type": "code",
      "metadata": {
        "id": "hc58YaHklDVG"
      },
      "source": [
        "yH = yH.squeeze()"
      ],
      "execution_count": null,
      "outputs": []
    },
    {
      "cell_type": "code",
      "metadata": {
        "colab": {
          "base_uri": "https://localhost:8080/"
        },
        "id": "HA9x8PGSjgMl",
        "outputId": "c9fb76a2-731d-448b-d841-f5c43ff1e60f"
      },
      "source": [
        "type(yC)"
      ],
      "execution_count": null,
      "outputs": [
        {
          "output_type": "execute_result",
          "data": {
            "text/plain": [
              "pandas.core.series.Series"
            ]
          },
          "metadata": {
            "tags": []
          },
          "execution_count": 11
        }
      ]
    },
    {
      "cell_type": "code",
      "metadata": {
        "id": "HaI2Rk8-b-UG"
      },
      "source": [
        "from sklearn.model_selection import train_test_split"
      ],
      "execution_count": null,
      "outputs": []
    },
    {
      "cell_type": "code",
      "metadata": {
        "id": "q32_H2pEcFR1"
      },
      "source": [
        "xH_train,xH_test,yH_train,yH_test = train_test_split(x,yH,test_size=0.25)\n",
        "xC_train,xC_test,yC_train,yC_test = train_test_split(x,yC,test_size=0.25)"
      ],
      "execution_count": null,
      "outputs": []
    },
    {
      "cell_type": "code",
      "metadata": {
        "colab": {
          "base_uri": "https://localhost:8080/",
          "height": 424
        },
        "id": "XsBTWLVZcagg",
        "outputId": "3d325a4e-7c9a-48a8-f480-c4f25f594ef8"
      },
      "source": [
        "xH_test"
      ],
      "execution_count": null,
      "outputs": [
        {
          "output_type": "execute_result",
          "data": {
            "text/html": [
              "<div>\n",
              "<style scoped>\n",
              "    .dataframe tbody tr th:only-of-type {\n",
              "        vertical-align: middle;\n",
              "    }\n",
              "\n",
              "    .dataframe tbody tr th {\n",
              "        vertical-align: top;\n",
              "    }\n",
              "\n",
              "    .dataframe thead th {\n",
              "        text-align: right;\n",
              "    }\n",
              "</style>\n",
              "<table border=\"1\" class=\"dataframe\">\n",
              "  <thead>\n",
              "    <tr style=\"text-align: right;\">\n",
              "      <th></th>\n",
              "      <th>Relative Compactness</th>\n",
              "      <th>Surface Area</th>\n",
              "      <th>Wall Area</th>\n",
              "      <th>Roof Area</th>\n",
              "      <th>Overall Height</th>\n",
              "      <th>Orientation</th>\n",
              "      <th>Glazing Area</th>\n",
              "      <th>Glazing Area Distrbution</th>\n",
              "    </tr>\n",
              "  </thead>\n",
              "  <tbody>\n",
              "    <tr>\n",
              "      <th>257</th>\n",
              "      <td>0.79</td>\n",
              "      <td>637.0</td>\n",
              "      <td>343.0</td>\n",
              "      <td>147.00</td>\n",
              "      <td>7.0</td>\n",
              "      <td>3</td>\n",
              "      <td>0.10</td>\n",
              "      <td>5</td>\n",
              "    </tr>\n",
              "    <tr>\n",
              "      <th>556</th>\n",
              "      <td>0.71</td>\n",
              "      <td>710.5</td>\n",
              "      <td>269.5</td>\n",
              "      <td>220.50</td>\n",
              "      <td>3.5</td>\n",
              "      <td>2</td>\n",
              "      <td>0.40</td>\n",
              "      <td>1</td>\n",
              "    </tr>\n",
              "    <tr>\n",
              "      <th>280</th>\n",
              "      <td>0.64</td>\n",
              "      <td>784.0</td>\n",
              "      <td>343.0</td>\n",
              "      <td>220.50</td>\n",
              "      <td>3.5</td>\n",
              "      <td>2</td>\n",
              "      <td>0.10</td>\n",
              "      <td>5</td>\n",
              "    </tr>\n",
              "    <tr>\n",
              "      <th>194</th>\n",
              "      <td>0.98</td>\n",
              "      <td>514.5</td>\n",
              "      <td>294.0</td>\n",
              "      <td>110.25</td>\n",
              "      <td>7.0</td>\n",
              "      <td>4</td>\n",
              "      <td>0.10</td>\n",
              "      <td>4</td>\n",
              "    </tr>\n",
              "    <tr>\n",
              "      <th>269</th>\n",
              "      <td>0.71</td>\n",
              "      <td>710.5</td>\n",
              "      <td>269.5</td>\n",
              "      <td>220.50</td>\n",
              "      <td>3.5</td>\n",
              "      <td>3</td>\n",
              "      <td>0.10</td>\n",
              "      <td>5</td>\n",
              "    </tr>\n",
              "    <tr>\n",
              "      <th>...</th>\n",
              "      <td>...</td>\n",
              "      <td>...</td>\n",
              "      <td>...</td>\n",
              "      <td>...</td>\n",
              "      <td>...</td>\n",
              "      <td>...</td>\n",
              "      <td>...</td>\n",
              "      <td>...</td>\n",
              "    </tr>\n",
              "    <tr>\n",
              "      <th>79</th>\n",
              "      <td>0.71</td>\n",
              "      <td>710.5</td>\n",
              "      <td>269.5</td>\n",
              "      <td>220.50</td>\n",
              "      <td>3.5</td>\n",
              "      <td>5</td>\n",
              "      <td>0.10</td>\n",
              "      <td>1</td>\n",
              "    </tr>\n",
              "    <tr>\n",
              "      <th>304</th>\n",
              "      <td>0.79</td>\n",
              "      <td>637.0</td>\n",
              "      <td>343.0</td>\n",
              "      <td>147.00</td>\n",
              "      <td>7.0</td>\n",
              "      <td>2</td>\n",
              "      <td>0.25</td>\n",
              "      <td>1</td>\n",
              "    </tr>\n",
              "    <tr>\n",
              "      <th>273</th>\n",
              "      <td>0.69</td>\n",
              "      <td>735.0</td>\n",
              "      <td>294.0</td>\n",
              "      <td>220.50</td>\n",
              "      <td>3.5</td>\n",
              "      <td>3</td>\n",
              "      <td>0.10</td>\n",
              "      <td>5</td>\n",
              "    </tr>\n",
              "    <tr>\n",
              "      <th>4</th>\n",
              "      <td>0.90</td>\n",
              "      <td>563.5</td>\n",
              "      <td>318.5</td>\n",
              "      <td>122.50</td>\n",
              "      <td>7.0</td>\n",
              "      <td>2</td>\n",
              "      <td>0.00</td>\n",
              "      <td>0</td>\n",
              "    </tr>\n",
              "    <tr>\n",
              "      <th>148</th>\n",
              "      <td>0.90</td>\n",
              "      <td>563.5</td>\n",
              "      <td>318.5</td>\n",
              "      <td>122.50</td>\n",
              "      <td>7.0</td>\n",
              "      <td>2</td>\n",
              "      <td>0.10</td>\n",
              "      <td>3</td>\n",
              "    </tr>\n",
              "  </tbody>\n",
              "</table>\n",
              "<p>192 rows × 8 columns</p>\n",
              "</div>"
            ],
            "text/plain": [
              "     Relative Compactness  Surface Area  ...  Glazing Area  Glazing Area Distrbution\n",
              "257                  0.79         637.0  ...          0.10                         5\n",
              "556                  0.71         710.5  ...          0.40                         1\n",
              "280                  0.64         784.0  ...          0.10                         5\n",
              "194                  0.98         514.5  ...          0.10                         4\n",
              "269                  0.71         710.5  ...          0.10                         5\n",
              "..                    ...           ...  ...           ...                       ...\n",
              "79                   0.71         710.5  ...          0.10                         1\n",
              "304                  0.79         637.0  ...          0.25                         1\n",
              "273                  0.69         735.0  ...          0.10                         5\n",
              "4                    0.90         563.5  ...          0.00                         0\n",
              "148                  0.90         563.5  ...          0.10                         3\n",
              "\n",
              "[192 rows x 8 columns]"
            ]
          },
          "metadata": {
            "tags": []
          },
          "execution_count": 14
        }
      ]
    },
    {
      "cell_type": "code",
      "metadata": {
        "colab": {
          "base_uri": "https://localhost:8080/"
        },
        "id": "M5ItZp6qcf0a",
        "outputId": "a09fb231-9ce0-4b63-a134-412701ab489a"
      },
      "source": [
        "yH_test"
      ],
      "execution_count": null,
      "outputs": [
        {
          "output_type": "execute_result",
          "data": {
            "text/plain": [
              "257    36.71\n",
              "556    14.51\n",
              "280    15.16\n",
              "194    24.04\n",
              "269    10.70\n",
              "       ...  \n",
              "79     10.75\n",
              "304    38.67\n",
              "273    11.14\n",
              "4      20.84\n",
              "148    28.07\n",
              "Name: Heating Load, Length: 192, dtype: float64"
            ]
          },
          "metadata": {
            "tags": []
          },
          "execution_count": 15
        }
      ]
    },
    {
      "cell_type": "code",
      "metadata": {
        "id": "dWRtIn6Ycjd1"
      },
      "source": [
        "from sklearn.linear_model import LinearRegression\n",
        "hlr = LinearRegression()\n",
        "clr = LinearRegression()"
      ],
      "execution_count": null,
      "outputs": []
    },
    {
      "cell_type": "code",
      "metadata": {
        "colab": {
          "base_uri": "https://localhost:8080/"
        },
        "id": "0LevJmo_c7lL",
        "outputId": "44e308be-ce36-4a6d-8177-3acebbd1a7d7"
      },
      "source": [
        "hlr.fit(xH_train,yH_train)\n",
        "clr.fit(xC_train,yC_train)"
      ],
      "execution_count": null,
      "outputs": [
        {
          "output_type": "execute_result",
          "data": {
            "text/plain": [
              "LinearRegression(copy_X=True, fit_intercept=True, n_jobs=None, normalize=False)"
            ]
          },
          "metadata": {
            "tags": []
          },
          "execution_count": 17
        }
      ]
    },
    {
      "cell_type": "code",
      "metadata": {
        "id": "jLdmwYbQdFH6"
      },
      "source": [
        "yH_pred = hlr.predict(xH_test)\n",
        "yC_pred = clr.predict(xC_test)"
      ],
      "execution_count": null,
      "outputs": []
    },
    {
      "cell_type": "markdown",
      "metadata": {
        "id": "a8D8YpI5Q54P"
      },
      "source": [
        "Score of the model on Heating and Cooling Load\n"
      ]
    },
    {
      "cell_type": "code",
      "metadata": {
        "colab": {
          "base_uri": "https://localhost:8080/"
        },
        "id": "Je92uiLddOy8",
        "outputId": "5af0efcd-8cbd-42cc-d3d7-95db9d77b4d8"
      },
      "source": [
        "a=hlr.score(xH_train,yH_train)*100\n",
        "b=clr.score(xC_train,yC_train)*100\n",
        "c=hlr.score(xH_test,yH_test)*100\n",
        "d=clr.score(xC_test,yC_test)*100\n",
        "print('training score of heating model : ',a,'%')\n",
        "print('training score of cooling model : ',b,'%')\n",
        "print('testing score of  heating model : ',c,'%')\n",
        "print('testing score of cooling model : ',d,'%')"
      ],
      "execution_count": null,
      "outputs": [
        {
          "output_type": "stream",
          "text": [
            "training score of heating model :  91.81773806364285 %\n",
            "training score of cooling model :  89.1260940762807 %\n",
            "testing score of  heating model :  90.80766625554972 %\n",
            "testing score of cooling model :  87.71909230261532 %\n"
          ],
          "name": "stdout"
        }
      ]
    },
    {
      "cell_type": "markdown",
      "metadata": {
        "id": "t3REnN3f34Er"
      },
      "source": [
        "coefficient and intercept for Heating loading "
      ]
    },
    {
      "cell_type": "code",
      "metadata": {
        "colab": {
          "base_uri": "https://localhost:8080/"
        },
        "id": "YEYHQ31_1gcZ",
        "outputId": "7bded53d-d5ef-4f5a-8a37-8a7efcba822b"
      },
      "source": [
        "print('co_efficient for heating load: ',hlr.coef_)\n",
        "print('intercept for heating load: ',hlr.intercept_)"
      ],
      "execution_count": null,
      "outputs": [
        {
          "output_type": "stream",
          "text": [
            "co_efficient for heating load:  [-6.19614670e+01 -1.15161453e+11  1.15161453e+11  2.30322907e+11\n",
            "  4.22122037e+00  8.65725055e-02  1.94255851e+01  2.75009081e-01]\n",
            "intercept for heating load:  78.36050133030022\n"
          ],
          "name": "stdout"
        }
      ]
    },
    {
      "cell_type": "markdown",
      "metadata": {
        "id": "kfpmrooB4CK0"
      },
      "source": [
        "co_eficient and intercept for Cooling load"
      ]
    },
    {
      "cell_type": "code",
      "metadata": {
        "colab": {
          "base_uri": "https://localhost:8080/"
        },
        "id": "jfs__4Cd4tG0",
        "outputId": "e67de5cd-6975-4b07-8c6e-4d6a3654208a"
      },
      "source": [
        "print('co_efficient for cooling load: ',clr.coef_)\n",
        "print('intercept for cooling load: ',clr.intercept_)"
      ],
      "execution_count": null,
      "outputs": [
        {
          "output_type": "stream",
          "text": [
            "co_efficient for cooling load:  [-7.66177079e+01 -7.32031320e-02  2.22595928e-02 -4.77313624e-02\n",
            "  4.18968399e+00  5.18230952e-02  1.46086154e+01  3.99538363e-02]\n",
            "intercept for cooling load:  107.84371098053961\n"
          ],
          "name": "stdout"
        }
      ]
    },
    {
      "cell_type": "code",
      "metadata": {
        "id": "EHFWKSQkyU-q"
      },
      "source": [
        "from sklearn.metrics import  mean_absolute_error,mean_squared_error"
      ],
      "execution_count": null,
      "outputs": []
    },
    {
      "cell_type": "markdown",
      "metadata": {
        "id": "nS8atjinzKid"
      },
      "source": [
        "Regression metrics for Heating load\n"
      ]
    },
    {
      "cell_type": "code",
      "metadata": {
        "colab": {
          "base_uri": "https://localhost:8080/"
        },
        "id": "-w5bf6ohzJul",
        "outputId": "3665185d-adab-4389-fb2a-0e167c213d84"
      },
      "source": [
        "MAE = mean_absolute_error(yH_test,yH_pred)\n",
        "MSE = mean_squared_error(yH_test,yH_pred)\n",
        "RMSE = (MSE)**0.5\n",
        "print('mean absolute error for Heating load: ',MAE)\n",
        "print('mean square error for Heating load: ',MSE)\n",
        "print('mean root square error for Heating load: ',RMSE)"
      ],
      "execution_count": null,
      "outputs": [
        {
          "output_type": "stream",
          "text": [
            "mean absolute error for Heating load:  2.193115635519361\n",
            "mean square error for Heating load:  9.244617763623898\n",
            "mean root square error for Heating load:  3.0404963021888216\n"
          ],
          "name": "stdout"
        }
      ]
    },
    {
      "cell_type": "markdown",
      "metadata": {
        "id": "npkF2A1k0NyH"
      },
      "source": [
        "Regression metrics for Cooling Load"
      ]
    },
    {
      "cell_type": "code",
      "metadata": {
        "colab": {
          "base_uri": "https://localhost:8080/"
        },
        "id": "hEPsHhYTzILN",
        "outputId": "01143ed0-e403-4119-d337-88d26d1830bb"
      },
      "source": [
        "MAE = mean_absolute_error(yC_test,yC_pred)\n",
        "MSE = mean_squared_error(yC_test,yC_pred)\n",
        "RMSE = (MSE)**0.5\n",
        "print('mean absolute error for Cooling load: ',MAE)\n",
        "print('mean square error for Cooling load: ',MSE)\n",
        "print('mean root square error for Cooling load: ',RMSE)"
      ],
      "execution_count": null,
      "outputs": [
        {
          "output_type": "stream",
          "text": [
            "mean absolute error for Cooling load:  2.4414629490525495\n",
            "mean square error for Cooling load:  11.582041020020156\n",
            "mean root square error for Cooling load:  3.4032397829157084\n"
          ],
          "name": "stdout"
        }
      ]
    },
    {
      "cell_type": "markdown",
      "metadata": {
        "id": "3bgfccTH67Nv"
      },
      "source": [
        "Generating equation for Heating load "
      ]
    },
    {
      "cell_type": "code",
      "metadata": {
        "colab": {
          "base_uri": "https://localhost:8080/"
        },
        "id": "2OYEut99XWPg",
        "outputId": "2f7dd298-831a-4d5e-b185-561416031606"
      },
      "source": [
        "df.columns"
      ],
      "execution_count": null,
      "outputs": [
        {
          "output_type": "execute_result",
          "data": {
            "text/plain": [
              "Index(['Relative Compactness', 'Surface Area', 'Wall Area', 'Roof Area',\n",
              "       'Overall Height', 'Orientation', 'Glazing Area',\n",
              "       'Glazing Area Distrbution', 'Heating Load', 'Cooling Load'],\n",
              "      dtype='object')"
            ]
          },
          "metadata": {
            "tags": []
          },
          "execution_count": 25
        }
      ]
    },
    {
      "cell_type": "code",
      "metadata": {
        "id": "b5nz9b8qEdxp"
      },
      "source": [
        "dfHC = df.copy()"
      ],
      "execution_count": null,
      "outputs": []
    },
    {
      "cell_type": "code",
      "metadata": {
        "id": "OyyrX2ZU65-C"
      },
      "source": [
        "dfHC['Pred_Heating_load_eq'] = df['Relative Compactness']*hlr.coef_[0] + df['Surface Area']*hlr.coef_[1] + df['Wall Area']*hlr.coef_[2] + df['Roof Area']*hlr.coef_[3] + df['Overall Height']*hlr.coef_[4] + df['Orientation']*hlr.coef_[5] + df['Glazing Area']*hlr.coef_ [6] + df['Glazing Area Distrbution']*hlr.coef_[7] + hlr.intercept_\n",
        "                        "
      ],
      "execution_count": null,
      "outputs": []
    },
    {
      "cell_type": "markdown",
      "metadata": {
        "id": "tKC6-Jis7Bc2"
      },
      "source": [
        "Generating equation for Cooling load"
      ]
    },
    {
      "cell_type": "code",
      "metadata": {
        "id": "zljrufPf66sr"
      },
      "source": [
        "dfHC['Pred_Cooling_load_eq'] = df['Relative Compactness']*clr.coef_[0] + df['Surface Area']*clr.coef_[1] + df['Wall Area']*clr.coef_[2] + df['Roof Area']*clr.coef_[3] + df['Overall Height']*clr.coef_[4] + df['Orientation']*clr.coef_[5] + df['Glazing Area']*clr.coef_ [6] + df['Glazing Area Distrbution']*clr.coef_[7] + clr.intercept_"
      ],
      "execution_count": null,
      "outputs": []
    },
    {
      "cell_type": "markdown",
      "metadata": {
        "id": "eg8osBJ2l_E-"
      },
      "source": [
        "Checking after transform in columns"
      ]
    },
    {
      "cell_type": "code",
      "metadata": {
        "colab": {
          "base_uri": "https://localhost:8080/",
          "height": 224
        },
        "id": "u7U0QQAzl7d2",
        "outputId": "a9e218c5-3482-47dc-d9b8-cc2d0397a78c"
      },
      "source": [
        "dfHC.head(5)"
      ],
      "execution_count": null,
      "outputs": [
        {
          "output_type": "execute_result",
          "data": {
            "text/html": [
              "<div>\n",
              "<style scoped>\n",
              "    .dataframe tbody tr th:only-of-type {\n",
              "        vertical-align: middle;\n",
              "    }\n",
              "\n",
              "    .dataframe tbody tr th {\n",
              "        vertical-align: top;\n",
              "    }\n",
              "\n",
              "    .dataframe thead th {\n",
              "        text-align: right;\n",
              "    }\n",
              "</style>\n",
              "<table border=\"1\" class=\"dataframe\">\n",
              "  <thead>\n",
              "    <tr style=\"text-align: right;\">\n",
              "      <th></th>\n",
              "      <th>Relative Compactness</th>\n",
              "      <th>Surface Area</th>\n",
              "      <th>Wall Area</th>\n",
              "      <th>Roof Area</th>\n",
              "      <th>Overall Height</th>\n",
              "      <th>Orientation</th>\n",
              "      <th>Glazing Area</th>\n",
              "      <th>Glazing Area Distrbution</th>\n",
              "      <th>Heating Load</th>\n",
              "      <th>Cooling Load</th>\n",
              "      <th>Pred_Heating_load_eq</th>\n",
              "      <th>Pred_Cooling_load_eq</th>\n",
              "    </tr>\n",
              "  </thead>\n",
              "  <tbody>\n",
              "    <tr>\n",
              "      <th>0</th>\n",
              "      <td>0.98</td>\n",
              "      <td>514.5</td>\n",
              "      <td>294.0</td>\n",
              "      <td>110.25</td>\n",
              "      <td>7.0</td>\n",
              "      <td>2</td>\n",
              "      <td>0.0</td>\n",
              "      <td>0</td>\n",
              "      <td>15.55</td>\n",
              "      <td>21.33</td>\n",
              "      <td>22.347814</td>\n",
              "      <td>25.808718</td>\n",
              "    </tr>\n",
              "    <tr>\n",
              "      <th>1</th>\n",
              "      <td>0.98</td>\n",
              "      <td>514.5</td>\n",
              "      <td>294.0</td>\n",
              "      <td>110.25</td>\n",
              "      <td>7.0</td>\n",
              "      <td>3</td>\n",
              "      <td>0.0</td>\n",
              "      <td>0</td>\n",
              "      <td>15.55</td>\n",
              "      <td>21.33</td>\n",
              "      <td>22.434386</td>\n",
              "      <td>25.860541</td>\n",
              "    </tr>\n",
              "    <tr>\n",
              "      <th>2</th>\n",
              "      <td>0.98</td>\n",
              "      <td>514.5</td>\n",
              "      <td>294.0</td>\n",
              "      <td>110.25</td>\n",
              "      <td>7.0</td>\n",
              "      <td>4</td>\n",
              "      <td>0.0</td>\n",
              "      <td>0</td>\n",
              "      <td>15.55</td>\n",
              "      <td>21.33</td>\n",
              "      <td>22.520959</td>\n",
              "      <td>25.912364</td>\n",
              "    </tr>\n",
              "    <tr>\n",
              "      <th>3</th>\n",
              "      <td>0.98</td>\n",
              "      <td>514.5</td>\n",
              "      <td>294.0</td>\n",
              "      <td>110.25</td>\n",
              "      <td>7.0</td>\n",
              "      <td>5</td>\n",
              "      <td>0.0</td>\n",
              "      <td>0</td>\n",
              "      <td>15.55</td>\n",
              "      <td>21.33</td>\n",
              "      <td>22.607531</td>\n",
              "      <td>25.964187</td>\n",
              "    </tr>\n",
              "    <tr>\n",
              "      <th>4</th>\n",
              "      <td>0.90</td>\n",
              "      <td>563.5</td>\n",
              "      <td>318.5</td>\n",
              "      <td>122.50</td>\n",
              "      <td>7.0</td>\n",
              "      <td>2</td>\n",
              "      <td>0.0</td>\n",
              "      <td>0</td>\n",
              "      <td>20.84</td>\n",
              "      <td>28.28</td>\n",
              "      <td>24.711095</td>\n",
              "      <td>28.311832</td>\n",
              "    </tr>\n",
              "  </tbody>\n",
              "</table>\n",
              "</div>"
            ],
            "text/plain": [
              "   Relative Compactness  ...  Pred_Cooling_load_eq\n",
              "0                  0.98  ...             25.808718\n",
              "1                  0.98  ...             25.860541\n",
              "2                  0.98  ...             25.912364\n",
              "3                  0.98  ...             25.964187\n",
              "4                  0.90  ...             28.311832\n",
              "\n",
              "[5 rows x 12 columns]"
            ]
          },
          "metadata": {
            "tags": []
          },
          "execution_count": 29
        }
      ]
    },
    {
      "cell_type": "code",
      "metadata": {
        "colab": {
          "base_uri": "https://localhost:8080/",
          "height": 144
        },
        "id": "hdx-bM5xFEhn",
        "outputId": "5b216d25-bed7-46fb-89c0-06d630e9fd18"
      },
      "source": [
        "df.head(3)"
      ],
      "execution_count": null,
      "outputs": [
        {
          "output_type": "execute_result",
          "data": {
            "text/html": [
              "<div>\n",
              "<style scoped>\n",
              "    .dataframe tbody tr th:only-of-type {\n",
              "        vertical-align: middle;\n",
              "    }\n",
              "\n",
              "    .dataframe tbody tr th {\n",
              "        vertical-align: top;\n",
              "    }\n",
              "\n",
              "    .dataframe thead th {\n",
              "        text-align: right;\n",
              "    }\n",
              "</style>\n",
              "<table border=\"1\" class=\"dataframe\">\n",
              "  <thead>\n",
              "    <tr style=\"text-align: right;\">\n",
              "      <th></th>\n",
              "      <th>Relative Compactness</th>\n",
              "      <th>Surface Area</th>\n",
              "      <th>Wall Area</th>\n",
              "      <th>Roof Area</th>\n",
              "      <th>Overall Height</th>\n",
              "      <th>Orientation</th>\n",
              "      <th>Glazing Area</th>\n",
              "      <th>Glazing Area Distrbution</th>\n",
              "      <th>Heating Load</th>\n",
              "      <th>Cooling Load</th>\n",
              "    </tr>\n",
              "  </thead>\n",
              "  <tbody>\n",
              "    <tr>\n",
              "      <th>0</th>\n",
              "      <td>0.98</td>\n",
              "      <td>514.5</td>\n",
              "      <td>294.0</td>\n",
              "      <td>110.25</td>\n",
              "      <td>7.0</td>\n",
              "      <td>2</td>\n",
              "      <td>0.0</td>\n",
              "      <td>0</td>\n",
              "      <td>15.55</td>\n",
              "      <td>21.33</td>\n",
              "    </tr>\n",
              "    <tr>\n",
              "      <th>1</th>\n",
              "      <td>0.98</td>\n",
              "      <td>514.5</td>\n",
              "      <td>294.0</td>\n",
              "      <td>110.25</td>\n",
              "      <td>7.0</td>\n",
              "      <td>3</td>\n",
              "      <td>0.0</td>\n",
              "      <td>0</td>\n",
              "      <td>15.55</td>\n",
              "      <td>21.33</td>\n",
              "    </tr>\n",
              "    <tr>\n",
              "      <th>2</th>\n",
              "      <td>0.98</td>\n",
              "      <td>514.5</td>\n",
              "      <td>294.0</td>\n",
              "      <td>110.25</td>\n",
              "      <td>7.0</td>\n",
              "      <td>4</td>\n",
              "      <td>0.0</td>\n",
              "      <td>0</td>\n",
              "      <td>15.55</td>\n",
              "      <td>21.33</td>\n",
              "    </tr>\n",
              "  </tbody>\n",
              "</table>\n",
              "</div>"
            ],
            "text/plain": [
              "   Relative Compactness  Surface Area  ...  Heating Load  Cooling Load\n",
              "0                  0.98         514.5  ...         15.55         21.33\n",
              "1                  0.98         514.5  ...         15.55         21.33\n",
              "2                  0.98         514.5  ...         15.55         21.33\n",
              "\n",
              "[3 rows x 10 columns]"
            ]
          },
          "metadata": {
            "tags": []
          },
          "execution_count": 30
        }
      ]
    },
    {
      "cell_type": "markdown",
      "metadata": {
        "id": "1cdxYpwkRm8R"
      },
      "source": [
        "Graphical represantion of correlation matrix of data set on heating and cooling load to define strong and weak relation  with each features"
      ]
    },
    {
      "cell_type": "code",
      "metadata": {
        "id": "BTvdk48OTK3a"
      },
      "source": [
        "corrh = df.iloc[:,:-1]\n",
        "corrc = df.iloc[:,[0,1,2,3,4,5,6,7,-1]]"
      ],
      "execution_count": null,
      "outputs": []
    },
    {
      "cell_type": "code",
      "metadata": {
        "id": "-aL6A8JyTvl4"
      },
      "source": [
        "corrc = corrc.corr()\n",
        "corrh = corrh.corr()"
      ],
      "execution_count": null,
      "outputs": []
    },
    {
      "cell_type": "markdown",
      "metadata": {
        "id": "lLbsydAeU9AD"
      },
      "source": [
        "correaltion matrix on heating load"
      ]
    },
    {
      "cell_type": "code",
      "metadata": {
        "colab": {
          "base_uri": "https://localhost:8080/",
          "height": 708
        },
        "id": "fGNZd6O3mY_t",
        "outputId": "0ed56698-d5f2-4993-b3b7-417229fcc675"
      },
      "source": [
        "plt.figure(1,figsize=(15,10))\n",
        "sns.heatmap(corrh,annot= True)\n",
        "plt.show()"
      ],
      "execution_count": null,
      "outputs": [
        {
          "output_type": "display_data",
          "data": {
            "image/png": "[encoded data removed]",
            "text/plain": [
              "<Figure size 1080x720 with 2 Axes>"
            ]
          },
          "metadata": {
            "tags": [],
            "needs_background": "light"
          }
        }
      ]
    },
    {
      "cell_type": "markdown",
      "metadata": {
        "id": "wd5y7tVHU20e"
      },
      "source": [
        "correlation matrix on cooling load"
      ]
    },
    {
      "cell_type": "code",
      "metadata": {
        "colab": {
          "base_uri": "https://localhost:8080/",
          "height": 708
        },
        "id": "TWB-e-44UyKU",
        "outputId": "853b90b3-92ec-4778-b170-8e7d6000c541"
      },
      "source": [
        "plt.figure(1,figsize=(15,10))\n",
        "sns.heatmap(corrc,annot= True)\n",
        "plt.show()"
      ],
      "execution_count": null,
      "outputs": [
        {
          "output_type": "display_data",
          "data": {
            "image/png": "[encoded data removed]",
            "text/plain": [
              "<Figure size 1080x720 with 2 Axes>"
            ]
          },
          "metadata": {
            "tags": [],
            "needs_background": "light"
          }
        }
      ]
    },
    {
      "cell_type": "code",
      "metadata": {
        "id": "p5E4uIl7-DYS"
      },
      "source": [
        "dfH = df.iloc[:,[0,2,4,6,7,-2]]\n",
        "dfC = df.iloc[:,[0,2,4,6,7,-1]]"
      ],
      "execution_count": null,
      "outputs": []
    },
    {
      "cell_type": "markdown",
      "metadata": {
        "id": "QGPGUyaMOI3I"
      },
      "source": [
        "Heating Load Appropriate independent features"
      ]
    },
    {
      "cell_type": "code",
      "metadata": {
        "colab": {
          "base_uri": "https://localhost:8080/",
          "height": 206
        },
        "id": "7xobFI1qECgm",
        "outputId": "824b2b0a-7c4f-455f-e649-53ddf12bfb23"
      },
      "source": [
        "dfH.head()"
      ],
      "execution_count": null,
      "outputs": [
        {
          "output_type": "execute_result",
          "data": {
            "text/html": [
              "<div>\n",
              "<style scoped>\n",
              "    .dataframe tbody tr th:only-of-type {\n",
              "        vertical-align: middle;\n",
              "    }\n",
              "\n",
              "    .dataframe tbody tr th {\n",
              "        vertical-align: top;\n",
              "    }\n",
              "\n",
              "    .dataframe thead th {\n",
              "        text-align: right;\n",
              "    }\n",
              "</style>\n",
              "<table border=\"1\" class=\"dataframe\">\n",
              "  <thead>\n",
              "    <tr style=\"text-align: right;\">\n",
              "      <th></th>\n",
              "      <th>Relative Compactness</th>\n",
              "      <th>Wall Area</th>\n",
              "      <th>Overall Height</th>\n",
              "      <th>Glazing Area</th>\n",
              "      <th>Glazing Area Distrbution</th>\n",
              "      <th>Heating Load</th>\n",
              "    </tr>\n",
              "  </thead>\n",
              "  <tbody>\n",
              "    <tr>\n",
              "      <th>0</th>\n",
              "      <td>0.98</td>\n",
              "      <td>294.0</td>\n",
              "      <td>7.0</td>\n",
              "      <td>0.0</td>\n",
              "      <td>0</td>\n",
              "      <td>15.55</td>\n",
              "    </tr>\n",
              "    <tr>\n",
              "      <th>1</th>\n",
              "      <td>0.98</td>\n",
              "      <td>294.0</td>\n",
              "      <td>7.0</td>\n",
              "      <td>0.0</td>\n",
              "      <td>0</td>\n",
              "      <td>15.55</td>\n",
              "    </tr>\n",
              "    <tr>\n",
              "      <th>2</th>\n",
              "      <td>0.98</td>\n",
              "      <td>294.0</td>\n",
              "      <td>7.0</td>\n",
              "      <td>0.0</td>\n",
              "      <td>0</td>\n",
              "      <td>15.55</td>\n",
              "    </tr>\n",
              "    <tr>\n",
              "      <th>3</th>\n",
              "      <td>0.98</td>\n",
              "      <td>294.0</td>\n",
              "      <td>7.0</td>\n",
              "      <td>0.0</td>\n",
              "      <td>0</td>\n",
              "      <td>15.55</td>\n",
              "    </tr>\n",
              "    <tr>\n",
              "      <th>4</th>\n",
              "      <td>0.90</td>\n",
              "      <td>318.5</td>\n",
              "      <td>7.0</td>\n",
              "      <td>0.0</td>\n",
              "      <td>0</td>\n",
              "      <td>20.84</td>\n",
              "    </tr>\n",
              "  </tbody>\n",
              "</table>\n",
              "</div>"
            ],
            "text/plain": [
              "   Relative Compactness  Wall Area  ...  Glazing Area Distrbution  Heating Load\n",
              "0                  0.98      294.0  ...                         0         15.55\n",
              "1                  0.98      294.0  ...                         0         15.55\n",
              "2                  0.98      294.0  ...                         0         15.55\n",
              "3                  0.98      294.0  ...                         0         15.55\n",
              "4                  0.90      318.5  ...                         0         20.84\n",
              "\n",
              "[5 rows x 6 columns]"
            ]
          },
          "metadata": {
            "tags": []
          },
          "execution_count": 72
        }
      ]
    },
    {
      "cell_type": "code",
      "metadata": {
        "id": "OIedtCC7FyZw"
      },
      "source": [
        "xh = dfH.iloc[:,:-1]\n",
        "yh = dfH.iloc[:,-1]"
      ],
      "execution_count": null,
      "outputs": []
    },
    {
      "cell_type": "markdown",
      "metadata": {
        "id": "oQkP7BFkN-3f"
      },
      "source": [
        "Train test split on Heating  load"
      ]
    },
    {
      "cell_type": "code",
      "metadata": {
        "id": "gsHkC5e2GQoZ"
      },
      "source": [
        "xh_train,xh_test,yh_train,yh_test = train_test_split(xh,yh,test_size=0.25)"
      ],
      "execution_count": null,
      "outputs": []
    },
    {
      "cell_type": "code",
      "metadata": {
        "colab": {
          "base_uri": "https://localhost:8080/",
          "height": 144
        },
        "id": "jKg5IqPWGyzt",
        "outputId": "0136b664-54c0-4b35-b9a5-92be250a3834"
      },
      "source": [
        "xh_train.head(3)"
      ],
      "execution_count": null,
      "outputs": [
        {
          "output_type": "execute_result",
          "data": {
            "text/html": [
              "<div>\n",
              "<style scoped>\n",
              "    .dataframe tbody tr th:only-of-type {\n",
              "        vertical-align: middle;\n",
              "    }\n",
              "\n",
              "    .dataframe tbody tr th {\n",
              "        vertical-align: top;\n",
              "    }\n",
              "\n",
              "    .dataframe thead th {\n",
              "        text-align: right;\n",
              "    }\n",
              "</style>\n",
              "<table border=\"1\" class=\"dataframe\">\n",
              "  <thead>\n",
              "    <tr style=\"text-align: right;\">\n",
              "      <th></th>\n",
              "      <th>Relative Compactness</th>\n",
              "      <th>Wall Area</th>\n",
              "      <th>Overall Height</th>\n",
              "      <th>Glazing Area</th>\n",
              "      <th>Glazing Area Distrbution</th>\n",
              "    </tr>\n",
              "  </thead>\n",
              "  <tbody>\n",
              "    <tr>\n",
              "      <th>101</th>\n",
              "      <td>0.90</td>\n",
              "      <td>318.5</td>\n",
              "      <td>7.0</td>\n",
              "      <td>0.1</td>\n",
              "      <td>2</td>\n",
              "    </tr>\n",
              "    <tr>\n",
              "      <th>598</th>\n",
              "      <td>0.76</td>\n",
              "      <td>416.5</td>\n",
              "      <td>7.0</td>\n",
              "      <td>0.4</td>\n",
              "      <td>2</td>\n",
              "    </tr>\n",
              "    <tr>\n",
              "      <th>709</th>\n",
              "      <td>0.66</td>\n",
              "      <td>318.5</td>\n",
              "      <td>3.5</td>\n",
              "      <td>0.4</td>\n",
              "      <td>4</td>\n",
              "    </tr>\n",
              "  </tbody>\n",
              "</table>\n",
              "</div>"
            ],
            "text/plain": [
              "     Relative Compactness  Wall Area  ...  Glazing Area  Glazing Area Distrbution\n",
              "101                  0.90      318.5  ...           0.1                         2\n",
              "598                  0.76      416.5  ...           0.4                         2\n",
              "709                  0.66      318.5  ...           0.4                         4\n",
              "\n",
              "[3 rows x 5 columns]"
            ]
          },
          "metadata": {
            "tags": []
          },
          "execution_count": 76
        }
      ]
    },
    {
      "cell_type": "code",
      "metadata": {
        "colab": {
          "base_uri": "https://localhost:8080/"
        },
        "id": "PhPqy2w8G8Ai",
        "outputId": "838ff5c0-4d04-4221-d6d8-c1780e2514f6"
      },
      "source": [
        "yh_test.head(3)"
      ],
      "execution_count": null,
      "outputs": [
        {
          "output_type": "execute_result",
          "data": {
            "text/plain": [
              "304    38.670\n",
              "95     13.020\n",
              "30      6.366\n",
              "Name: Heating Load, dtype: float64"
            ]
          },
          "metadata": {
            "tags": []
          },
          "execution_count": 77
        }
      ]
    },
    {
      "cell_type": "code",
      "metadata": {
        "id": "N7FpmPzgH5hv"
      },
      "source": [
        "hcmlr = LinearRegression()"
      ],
      "execution_count": null,
      "outputs": []
    },
    {
      "cell_type": "code",
      "metadata": {
        "colab": {
          "base_uri": "https://localhost:8080/"
        },
        "id": "_79xoLPqHDzR",
        "outputId": "88b6a409-0403-46b0-dca1-80310a14f47b"
      },
      "source": [
        "hcmlr.fit(xh_train,yh_train)"
      ],
      "execution_count": null,
      "outputs": [
        {
          "output_type": "execute_result",
          "data": {
            "text/plain": [
              "LinearRegression(copy_X=True, fit_intercept=True, n_jobs=None, normalize=False)"
            ]
          },
          "metadata": {
            "tags": []
          },
          "execution_count": 79
        }
      ]
    },
    {
      "cell_type": "markdown",
      "metadata": {
        "id": "3RTUr4RyN5yd"
      },
      "source": [
        "Score of model with appropriate feature"
      ]
    },
    {
      "cell_type": "code",
      "metadata": {
        "colab": {
          "base_uri": "https://localhost:8080/"
        },
        "id": "cughyoRDI9HB",
        "outputId": "e3b027ef-679a-481f-a6a4-6a2aaca9a23e"
      },
      "source": [
        "w=hcmlr.score(xh_train,yh_train)*100\n",
        "\n",
        "y=hcmlr.score(xh_test,yh_test)*100\n",
        "\n",
        "print('training score of heating model : ',w,'%')\n",
        "\n",
        "print('testing score of  heating model : ',y,'%')\n"
      ],
      "execution_count": null,
      "outputs": [
        {
          "output_type": "stream",
          "text": [
            "training score of heating model :  91.39149808295643 %\n",
            "testing score of  heating model :  90.92006857133367 %\n"
          ],
          "name": "stdout"
        }
      ]
    },
    {
      "cell_type": "markdown",
      "metadata": {
        "id": "UJ9WeXLvOfGG"
      },
      "source": [
        "slope and intercept of appropriate features of Heating load"
      ]
    },
    {
      "cell_type": "code",
      "metadata": {
        "colab": {
          "base_uri": "https://localhost:8080/"
        },
        "id": "p3X-WbrsHP9C",
        "outputId": "2612aa29-faa4-4957-fb95-1c8f851d61cf"
      },
      "source": [
        "print('the coefficient of heating load on appropriate feature: ', hcmlr.coef_)\n",
        "print('the intercept of heating load on appropriate feature: ',hcmlr.intercept_)"
      ],
      "execution_count": null,
      "outputs": [
        {
          "output_type": "stream",
          "text": [
            "the coefficient of heating load on appropriate feature:  [-9.60451326  0.03978399  5.23985414 19.79395631  0.17970675]\n",
            "the intercept of heating load on appropriate feature:  -15.76929463425163\n"
          ],
          "name": "stdout"
        }
      ]
    },
    {
      "cell_type": "code",
      "metadata": {
        "id": "siZPm7tMKSXP"
      },
      "source": [
        "yh_pred = hcmlr.predict(xh_test)"
      ],
      "execution_count": null,
      "outputs": []
    },
    {
      "cell_type": "markdown",
      "metadata": {
        "id": "NQr3P7ZNO4uV"
      },
      "source": [
        "Regression metrics score on heating load"
      ]
    },
    {
      "cell_type": "code",
      "metadata": {
        "colab": {
          "base_uri": "https://localhost:8080/"
        },
        "id": "spsW0RwjKEeu",
        "outputId": "c595069a-1bdf-4548-e866-97838dac92aa"
      },
      "source": [
        "MAE = mean_absolute_error(yh_test,yh_pred)\n",
        "MSE = mean_squared_error(yh_test,yh_pred)\n",
        "RMSE = (MSE)**0.5\n",
        "print('mean absolute error for Heating load on appropriate feature: ',MAE)\n",
        "print('mean square error for Heating load appropriate feature: ',MSE)\n",
        "print('mean root square error for Heating load appropriate feature: ',RMSE)"
      ],
      "execution_count": null,
      "outputs": [
        {
          "output_type": "stream",
          "text": [
            "mean absolute error for Heating load on appropriate feature:  2.286140110232831\n",
            "mean square error for Heating load appropriate feature:  9.93136724621307\n",
            "mean root square error for Heating load appropriate feature:  3.1514071850862226\n"
          ],
          "name": "stdout"
        }
      ]
    },
    {
      "cell_type": "code",
      "metadata": {
        "colab": {
          "base_uri": "https://localhost:8080/"
        },
        "id": "rLGDAKUVKy09",
        "outputId": "ed6214b4-d958-4961-8277-6745c974d0b4"
      },
      "source": [
        "dfH['predicted heating load'] = hcmlr.predict(xh)"
      ],
      "execution_count": null,
      "outputs": [
        {
          "output_type": "stream",
          "text": [
            "/usr/local/lib/python3.7/dist-packages/ipykernel_launcher.py:1: SettingWithCopyWarning: \n",
            "A value is trying to be set on a copy of a slice from a DataFrame.\n",
            "Try using .loc[row_indexer,col_indexer] = value instead\n",
            "\n",
            "See the caveats in the documentation: https://pandas.pydata.org/pandas-docs/stable/user_guide/indexing.html#returning-a-view-versus-a-copy\n",
            "  \"\"\"Entry point for launching an IPython kernel.\n"
          ],
          "name": "stderr"
        }
      ]
    },
    {
      "cell_type": "code",
      "metadata": {
        "colab": {
          "base_uri": "https://localhost:8080/"
        },
        "id": "MCT2JXSrH4EA",
        "outputId": "7e98d46b-a9b5-437b-ce1e-3f460e6d60d4"
      },
      "source": [
        "dfH.columns"
      ],
      "execution_count": null,
      "outputs": [
        {
          "output_type": "execute_result",
          "data": {
            "text/plain": [
              "Index(['Relative Compactness', 'Wall Area', 'Overall Height', 'Glazing Area',\n",
              "       'Glazing Area Distrbution', 'Heating Load', 'predicted heating load'],\n",
              "      dtype='object')"
            ]
          },
          "metadata": {
            "tags": []
          },
          "execution_count": 86
        }
      ]
    },
    {
      "cell_type": "code",
      "metadata": {
        "colab": {
          "base_uri": "https://localhost:8080/"
        },
        "id": "uNeXcLuSKfJz",
        "outputId": "5c8410a3-042a-40ee-cfa9-51f3064c63ac"
      },
      "source": [
        "dfH['Pred_Heating_load_eq'] = df['Relative Compactness']*hcmlr.coef_[0] + df['Wall Area']*hcmlr.coef_[1] + df['Overall Height']*hcmlr.coef_[2] + df['Glazing Area']*hcmlr.coef_[3] + df['Glazing Area Distrbution']*hcmlr.coef_[4] + hcmlr.intercept_"
      ],
      "execution_count": null,
      "outputs": [
        {
          "output_type": "stream",
          "text": [
            "/usr/local/lib/python3.7/dist-packages/ipykernel_launcher.py:1: SettingWithCopyWarning: \n",
            "A value is trying to be set on a copy of a slice from a DataFrame.\n",
            "Try using .loc[row_indexer,col_indexer] = value instead\n",
            "\n",
            "See the caveats in the documentation: https://pandas.pydata.org/pandas-docs/stable/user_guide/indexing.html#returning-a-view-versus-a-copy\n",
            "  \"\"\"Entry point for launching an IPython kernel.\n"
          ],
          "name": "stderr"
        }
      ]
    },
    {
      "cell_type": "code",
      "metadata": {
        "colab": {
          "base_uri": "https://localhost:8080/",
          "height": 424
        },
        "id": "iWRd4r20LWZm",
        "outputId": "bd969d40-3658-4e27-bf6c-63961f1e88fc"
      },
      "source": [
        "dfH"
      ],
      "execution_count": null,
      "outputs": [
        {
          "output_type": "execute_result",
          "data": {
            "text/html": [
              "<div>\n",
              "<style scoped>\n",
              "    .dataframe tbody tr th:only-of-type {\n",
              "        vertical-align: middle;\n",
              "    }\n",
              "\n",
              "    .dataframe tbody tr th {\n",
              "        vertical-align: top;\n",
              "    }\n",
              "\n",
              "    .dataframe thead th {\n",
              "        text-align: right;\n",
              "    }\n",
              "</style>\n",
              "<table border=\"1\" class=\"dataframe\">\n",
              "  <thead>\n",
              "    <tr style=\"text-align: right;\">\n",
              "      <th></th>\n",
              "      <th>Relative Compactness</th>\n",
              "      <th>Wall Area</th>\n",
              "      <th>Overall Height</th>\n",
              "      <th>Glazing Area</th>\n",
              "      <th>Glazing Area Distrbution</th>\n",
              "      <th>Heating Load</th>\n",
              "      <th>predicted heating load</th>\n",
              "      <th>Pred_Heating_load_eq</th>\n",
              "    </tr>\n",
              "  </thead>\n",
              "  <tbody>\n",
              "    <tr>\n",
              "      <th>0</th>\n",
              "      <td>0.98</td>\n",
              "      <td>294.0</td>\n",
              "      <td>7.0</td>\n",
              "      <td>0.0</td>\n",
              "      <td>0</td>\n",
              "      <td>15.55</td>\n",
              "      <td>23.193755</td>\n",
              "      <td>23.193755</td>\n",
              "    </tr>\n",
              "    <tr>\n",
              "      <th>1</th>\n",
              "      <td>0.98</td>\n",
              "      <td>294.0</td>\n",
              "      <td>7.0</td>\n",
              "      <td>0.0</td>\n",
              "      <td>0</td>\n",
              "      <td>15.55</td>\n",
              "      <td>23.193755</td>\n",
              "      <td>23.193755</td>\n",
              "    </tr>\n",
              "    <tr>\n",
              "      <th>2</th>\n",
              "      <td>0.98</td>\n",
              "      <td>294.0</td>\n",
              "      <td>7.0</td>\n",
              "      <td>0.0</td>\n",
              "      <td>0</td>\n",
              "      <td>15.55</td>\n",
              "      <td>23.193755</td>\n",
              "      <td>23.193755</td>\n",
              "    </tr>\n",
              "    <tr>\n",
              "      <th>3</th>\n",
              "      <td>0.98</td>\n",
              "      <td>294.0</td>\n",
              "      <td>7.0</td>\n",
              "      <td>0.0</td>\n",
              "      <td>0</td>\n",
              "      <td>15.55</td>\n",
              "      <td>23.193755</td>\n",
              "      <td>23.193755</td>\n",
              "    </tr>\n",
              "    <tr>\n",
              "      <th>4</th>\n",
              "      <td>0.90</td>\n",
              "      <td>318.5</td>\n",
              "      <td>7.0</td>\n",
              "      <td>0.0</td>\n",
              "      <td>0</td>\n",
              "      <td>20.84</td>\n",
              "      <td>24.936824</td>\n",
              "      <td>24.936824</td>\n",
              "    </tr>\n",
              "    <tr>\n",
              "      <th>...</th>\n",
              "      <td>...</td>\n",
              "      <td>...</td>\n",
              "      <td>...</td>\n",
              "      <td>...</td>\n",
              "      <td>...</td>\n",
              "      <td>...</td>\n",
              "      <td>...</td>\n",
              "      <td>...</td>\n",
              "    </tr>\n",
              "    <tr>\n",
              "      <th>763</th>\n",
              "      <td>0.64</td>\n",
              "      <td>343.0</td>\n",
              "      <td>3.5</td>\n",
              "      <td>0.4</td>\n",
              "      <td>5</td>\n",
              "      <td>17.88</td>\n",
              "      <td>18.885332</td>\n",
              "      <td>18.885332</td>\n",
              "    </tr>\n",
              "    <tr>\n",
              "      <th>764</th>\n",
              "      <td>0.62</td>\n",
              "      <td>367.5</td>\n",
              "      <td>3.5</td>\n",
              "      <td>0.4</td>\n",
              "      <td>5</td>\n",
              "      <td>16.54</td>\n",
              "      <td>20.052130</td>\n",
              "      <td>20.052130</td>\n",
              "    </tr>\n",
              "    <tr>\n",
              "      <th>765</th>\n",
              "      <td>0.62</td>\n",
              "      <td>367.5</td>\n",
              "      <td>3.5</td>\n",
              "      <td>0.4</td>\n",
              "      <td>5</td>\n",
              "      <td>16.44</td>\n",
              "      <td>20.052130</td>\n",
              "      <td>20.052130</td>\n",
              "    </tr>\n",
              "    <tr>\n",
              "      <th>766</th>\n",
              "      <td>0.62</td>\n",
              "      <td>367.5</td>\n",
              "      <td>3.5</td>\n",
              "      <td>0.4</td>\n",
              "      <td>5</td>\n",
              "      <td>16.48</td>\n",
              "      <td>20.052130</td>\n",
              "      <td>20.052130</td>\n",
              "    </tr>\n",
              "    <tr>\n",
              "      <th>767</th>\n",
              "      <td>0.62</td>\n",
              "      <td>367.5</td>\n",
              "      <td>3.5</td>\n",
              "      <td>0.4</td>\n",
              "      <td>5</td>\n",
              "      <td>16.64</td>\n",
              "      <td>20.052130</td>\n",
              "      <td>20.052130</td>\n",
              "    </tr>\n",
              "  </tbody>\n",
              "</table>\n",
              "<p>768 rows × 8 columns</p>\n",
              "</div>"
            ],
            "text/plain": [
              "     Relative Compactness  ...  Pred_Heating_load_eq\n",
              "0                    0.98  ...             23.193755\n",
              "1                    0.98  ...             23.193755\n",
              "2                    0.98  ...             23.193755\n",
              "3                    0.98  ...             23.193755\n",
              "4                    0.90  ...             24.936824\n",
              "..                    ...  ...                   ...\n",
              "763                  0.64  ...             18.885332\n",
              "764                  0.62  ...             20.052130\n",
              "765                  0.62  ...             20.052130\n",
              "766                  0.62  ...             20.052130\n",
              "767                  0.62  ...             20.052130\n",
              "\n",
              "[768 rows x 8 columns]"
            ]
          },
          "metadata": {
            "tags": []
          },
          "execution_count": 88
        }
      ]
    },
    {
      "cell_type": "markdown",
      "metadata": {
        "id": "Ys8QlyetLfq8"
      },
      "source": [
        "Dataset related upon the appropriate independent Features on Heating  load"
      ]
    },
    {
      "cell_type": "markdown",
      "metadata": {
        "id": "6Z5nFrIxMBxS"
      },
      "source": [
        "Cooling Load Appropriate independent features"
      ]
    },
    {
      "cell_type": "code",
      "metadata": {
        "colab": {
          "base_uri": "https://localhost:8080/",
          "height": 424
        },
        "id": "jtfu0ZA5L6PP",
        "outputId": "f9eda325-90c7-4f7c-da5f-4557e91183e9"
      },
      "source": [
        "dfC"
      ],
      "execution_count": null,
      "outputs": [
        {
          "output_type": "execute_result",
          "data": {
            "text/html": [
              "<div>\n",
              "<style scoped>\n",
              "    .dataframe tbody tr th:only-of-type {\n",
              "        vertical-align: middle;\n",
              "    }\n",
              "\n",
              "    .dataframe tbody tr th {\n",
              "        vertical-align: top;\n",
              "    }\n",
              "\n",
              "    .dataframe thead th {\n",
              "        text-align: right;\n",
              "    }\n",
              "</style>\n",
              "<table border=\"1\" class=\"dataframe\">\n",
              "  <thead>\n",
              "    <tr style=\"text-align: right;\">\n",
              "      <th></th>\n",
              "      <th>Relative Compactness</th>\n",
              "      <th>Wall Area</th>\n",
              "      <th>Overall Height</th>\n",
              "      <th>Glazing Area</th>\n",
              "      <th>Glazing Area Distrbution</th>\n",
              "      <th>Cooling Load</th>\n",
              "    </tr>\n",
              "  </thead>\n",
              "  <tbody>\n",
              "    <tr>\n",
              "      <th>0</th>\n",
              "      <td>0.98</td>\n",
              "      <td>294.0</td>\n",
              "      <td>7.0</td>\n",
              "      <td>0.0</td>\n",
              "      <td>0</td>\n",
              "      <td>21.33</td>\n",
              "    </tr>\n",
              "    <tr>\n",
              "      <th>1</th>\n",
              "      <td>0.98</td>\n",
              "      <td>294.0</td>\n",
              "      <td>7.0</td>\n",
              "      <td>0.0</td>\n",
              "      <td>0</td>\n",
              "      <td>21.33</td>\n",
              "    </tr>\n",
              "    <tr>\n",
              "      <th>2</th>\n",
              "      <td>0.98</td>\n",
              "      <td>294.0</td>\n",
              "      <td>7.0</td>\n",
              "      <td>0.0</td>\n",
              "      <td>0</td>\n",
              "      <td>21.33</td>\n",
              "    </tr>\n",
              "    <tr>\n",
              "      <th>3</th>\n",
              "      <td>0.98</td>\n",
              "      <td>294.0</td>\n",
              "      <td>7.0</td>\n",
              "      <td>0.0</td>\n",
              "      <td>0</td>\n",
              "      <td>21.33</td>\n",
              "    </tr>\n",
              "    <tr>\n",
              "      <th>4</th>\n",
              "      <td>0.90</td>\n",
              "      <td>318.5</td>\n",
              "      <td>7.0</td>\n",
              "      <td>0.0</td>\n",
              "      <td>0</td>\n",
              "      <td>28.28</td>\n",
              "    </tr>\n",
              "    <tr>\n",
              "      <th>...</th>\n",
              "      <td>...</td>\n",
              "      <td>...</td>\n",
              "      <td>...</td>\n",
              "      <td>...</td>\n",
              "      <td>...</td>\n",
              "      <td>...</td>\n",
              "    </tr>\n",
              "    <tr>\n",
              "      <th>763</th>\n",
              "      <td>0.64</td>\n",
              "      <td>343.0</td>\n",
              "      <td>3.5</td>\n",
              "      <td>0.4</td>\n",
              "      <td>5</td>\n",
              "      <td>21.40</td>\n",
              "    </tr>\n",
              "    <tr>\n",
              "      <th>764</th>\n",
              "      <td>0.62</td>\n",
              "      <td>367.5</td>\n",
              "      <td>3.5</td>\n",
              "      <td>0.4</td>\n",
              "      <td>5</td>\n",
              "      <td>16.88</td>\n",
              "    </tr>\n",
              "    <tr>\n",
              "      <th>765</th>\n",
              "      <td>0.62</td>\n",
              "      <td>367.5</td>\n",
              "      <td>3.5</td>\n",
              "      <td>0.4</td>\n",
              "      <td>5</td>\n",
              "      <td>17.11</td>\n",
              "    </tr>\n",
              "    <tr>\n",
              "      <th>766</th>\n",
              "      <td>0.62</td>\n",
              "      <td>367.5</td>\n",
              "      <td>3.5</td>\n",
              "      <td>0.4</td>\n",
              "      <td>5</td>\n",
              "      <td>16.61</td>\n",
              "    </tr>\n",
              "    <tr>\n",
              "      <th>767</th>\n",
              "      <td>0.62</td>\n",
              "      <td>367.5</td>\n",
              "      <td>3.5</td>\n",
              "      <td>0.4</td>\n",
              "      <td>5</td>\n",
              "      <td>16.03</td>\n",
              "    </tr>\n",
              "  </tbody>\n",
              "</table>\n",
              "<p>768 rows × 6 columns</p>\n",
              "</div>"
            ],
            "text/plain": [
              "     Relative Compactness  Wall Area  ...  Glazing Area Distrbution  Cooling Load\n",
              "0                    0.98      294.0  ...                         0         21.33\n",
              "1                    0.98      294.0  ...                         0         21.33\n",
              "2                    0.98      294.0  ...                         0         21.33\n",
              "3                    0.98      294.0  ...                         0         21.33\n",
              "4                    0.90      318.5  ...                         0         28.28\n",
              "..                    ...        ...  ...                       ...           ...\n",
              "763                  0.64      343.0  ...                         5         21.40\n",
              "764                  0.62      367.5  ...                         5         16.88\n",
              "765                  0.62      367.5  ...                         5         17.11\n",
              "766                  0.62      367.5  ...                         5         16.61\n",
              "767                  0.62      367.5  ...                         5         16.03\n",
              "\n",
              "[768 rows x 6 columns]"
            ]
          },
          "metadata": {
            "tags": []
          },
          "execution_count": 89
        }
      ]
    },
    {
      "cell_type": "code",
      "metadata": {
        "id": "uyXkqlaaMaQm"
      },
      "source": [
        "xc = dfC.iloc[:,:-1]\n",
        "yc = dfC.iloc[:,-1]"
      ],
      "execution_count": null,
      "outputs": []
    },
    {
      "cell_type": "code",
      "metadata": {
        "colab": {
          "base_uri": "https://localhost:8080/"
        },
        "id": "z_g_tb3EMfcu",
        "outputId": "3955eb49-57c2-49ed-9104-76db5713ba80"
      },
      "source": [
        "yc"
      ],
      "execution_count": null,
      "outputs": [
        {
          "output_type": "execute_result",
          "data": {
            "text/plain": [
              "0      21.33\n",
              "1      21.33\n",
              "2      21.33\n",
              "3      21.33\n",
              "4      28.28\n",
              "       ...  \n",
              "763    21.40\n",
              "764    16.88\n",
              "765    17.11\n",
              "766    16.61\n",
              "767    16.03\n",
              "Name: Cooling Load, Length: 768, dtype: float64"
            ]
          },
          "metadata": {
            "tags": []
          },
          "execution_count": 91
        }
      ]
    },
    {
      "cell_type": "markdown",
      "metadata": {
        "id": "1gtikxN5Mt0g"
      },
      "source": [
        "Train test split on cooling load"
      ]
    },
    {
      "cell_type": "code",
      "metadata": {
        "id": "-TCFP25LMj_j"
      },
      "source": [
        "xc_train,xc_test,yc_train,yc_test = train_test_split(xc,yc,test_size=0.25)"
      ],
      "execution_count": null,
      "outputs": []
    },
    {
      "cell_type": "code",
      "metadata": {
        "colab": {
          "base_uri": "https://localhost:8080/",
          "height": 424
        },
        "id": "4ftPJfV8My03",
        "outputId": "eec7b703-2e5b-4153-eacb-9416ecefa7d9"
      },
      "source": [
        "xc_train"
      ],
      "execution_count": null,
      "outputs": [
        {
          "output_type": "execute_result",
          "data": {
            "text/html": [
              "<div>\n",
              "<style scoped>\n",
              "    .dataframe tbody tr th:only-of-type {\n",
              "        vertical-align: middle;\n",
              "    }\n",
              "\n",
              "    .dataframe tbody tr th {\n",
              "        vertical-align: top;\n",
              "    }\n",
              "\n",
              "    .dataframe thead th {\n",
              "        text-align: right;\n",
              "    }\n",
              "</style>\n",
              "<table border=\"1\" class=\"dataframe\">\n",
              "  <thead>\n",
              "    <tr style=\"text-align: right;\">\n",
              "      <th></th>\n",
              "      <th>Relative Compactness</th>\n",
              "      <th>Wall Area</th>\n",
              "      <th>Overall Height</th>\n",
              "      <th>Glazing Area</th>\n",
              "      <th>Glazing Area Distrbution</th>\n",
              "    </tr>\n",
              "  </thead>\n",
              "  <tbody>\n",
              "    <tr>\n",
              "      <th>146</th>\n",
              "      <td>0.98</td>\n",
              "      <td>294.0</td>\n",
              "      <td>7.0</td>\n",
              "      <td>0.10</td>\n",
              "      <td>3</td>\n",
              "    </tr>\n",
              "    <tr>\n",
              "      <th>682</th>\n",
              "      <td>0.86</td>\n",
              "      <td>294.0</td>\n",
              "      <td>7.0</td>\n",
              "      <td>0.40</td>\n",
              "      <td>4</td>\n",
              "    </tr>\n",
              "    <tr>\n",
              "      <th>134</th>\n",
              "      <td>0.66</td>\n",
              "      <td>318.5</td>\n",
              "      <td>3.5</td>\n",
              "      <td>0.10</td>\n",
              "      <td>2</td>\n",
              "    </tr>\n",
              "    <tr>\n",
              "      <th>161</th>\n",
              "      <td>0.79</td>\n",
              "      <td>343.0</td>\n",
              "      <td>7.0</td>\n",
              "      <td>0.10</td>\n",
              "      <td>3</td>\n",
              "    </tr>\n",
              "    <tr>\n",
              "      <th>64</th>\n",
              "      <td>0.79</td>\n",
              "      <td>343.0</td>\n",
              "      <td>7.0</td>\n",
              "      <td>0.10</td>\n",
              "      <td>1</td>\n",
              "    </tr>\n",
              "    <tr>\n",
              "      <th>...</th>\n",
              "      <td>...</td>\n",
              "      <td>...</td>\n",
              "      <td>...</td>\n",
              "      <td>...</td>\n",
              "      <td>...</td>\n",
              "    </tr>\n",
              "    <tr>\n",
              "      <th>98</th>\n",
              "      <td>0.98</td>\n",
              "      <td>294.0</td>\n",
              "      <td>7.0</td>\n",
              "      <td>0.10</td>\n",
              "      <td>2</td>\n",
              "    </tr>\n",
              "    <tr>\n",
              "      <th>378</th>\n",
              "      <td>0.64</td>\n",
              "      <td>343.0</td>\n",
              "      <td>3.5</td>\n",
              "      <td>0.25</td>\n",
              "      <td>2</td>\n",
              "    </tr>\n",
              "    <tr>\n",
              "      <th>72</th>\n",
              "      <td>0.74</td>\n",
              "      <td>245.0</td>\n",
              "      <td>3.5</td>\n",
              "      <td>0.10</td>\n",
              "      <td>1</td>\n",
              "    </tr>\n",
              "    <tr>\n",
              "      <th>216</th>\n",
              "      <td>0.74</td>\n",
              "      <td>245.0</td>\n",
              "      <td>3.5</td>\n",
              "      <td>0.10</td>\n",
              "      <td>4</td>\n",
              "    </tr>\n",
              "    <tr>\n",
              "      <th>536</th>\n",
              "      <td>0.86</td>\n",
              "      <td>294.0</td>\n",
              "      <td>7.0</td>\n",
              "      <td>0.40</td>\n",
              "      <td>1</td>\n",
              "    </tr>\n",
              "  </tbody>\n",
              "</table>\n",
              "<p>576 rows × 5 columns</p>\n",
              "</div>"
            ],
            "text/plain": [
              "     Relative Compactness  Wall Area  ...  Glazing Area  Glazing Area Distrbution\n",
              "146                  0.98      294.0  ...          0.10                         3\n",
              "682                  0.86      294.0  ...          0.40                         4\n",
              "134                  0.66      318.5  ...          0.10                         2\n",
              "161                  0.79      343.0  ...          0.10                         3\n",
              "64                   0.79      343.0  ...          0.10                         1\n",
              "..                    ...        ...  ...           ...                       ...\n",
              "98                   0.98      294.0  ...          0.10                         2\n",
              "378                  0.64      343.0  ...          0.25                         2\n",
              "72                   0.74      245.0  ...          0.10                         1\n",
              "216                  0.74      245.0  ...          0.10                         4\n",
              "536                  0.86      294.0  ...          0.40                         1\n",
              "\n",
              "[576 rows x 5 columns]"
            ]
          },
          "metadata": {
            "tags": []
          },
          "execution_count": 93
        }
      ]
    },
    {
      "cell_type": "code",
      "metadata": {
        "colab": {
          "base_uri": "https://localhost:8080/"
        },
        "id": "ev-IDLVLM3Bt",
        "outputId": "d91d6c20-fdf3-4b62-d326-90fd7e15a5ba"
      },
      "source": [
        "yc_test"
      ],
      "execution_count": null,
      "outputs": [
        {
          "output_type": "execute_result",
          "data": {
            "text/plain": [
              "245    29.52\n",
              "416    14.92\n",
              "273    14.28\n",
              "717    16.79\n",
              "567    17.95\n",
              "       ...  \n",
              "635    31.60\n",
              "597    40.40\n",
              "425    20.03\n",
              "102    29.36\n",
              "191    13.89\n",
              "Name: Cooling Load, Length: 192, dtype: float64"
            ]
          },
          "metadata": {
            "tags": []
          },
          "execution_count": 94
        }
      ]
    },
    {
      "cell_type": "code",
      "metadata": {
        "colab": {
          "base_uri": "https://localhost:8080/"
        },
        "id": "0lxJskCUNDkg",
        "outputId": "1d9c10e2-caf1-49a1-fbc7-92213685c59c"
      },
      "source": [
        "ccmlr = LinearRegression()\n",
        "ccmlr.fit(xc_train,yc_train)"
      ],
      "execution_count": null,
      "outputs": [
        {
          "output_type": "execute_result",
          "data": {
            "text/plain": [
              "LinearRegression(copy_X=True, fit_intercept=True, n_jobs=None, normalize=False)"
            ]
          },
          "metadata": {
            "tags": []
          },
          "execution_count": 95
        }
      ]
    },
    {
      "cell_type": "markdown",
      "metadata": {
        "id": "lTmtmWI6NSiX"
      },
      "source": [
        "Score of model with appropriate feature"
      ]
    },
    {
      "cell_type": "code",
      "metadata": {
        "colab": {
          "base_uri": "https://localhost:8080/"
        },
        "id": "In1hUEi-NR3Y",
        "outputId": "d52d752c-355e-48f2-bbe0-80605f07ab88"
      },
      "source": [
        "x=ccmlr.score(xc_train,yc_train)*100\n",
        "z=ccmlr.score(xc_test,yc_test)*100\n",
        "print('training score of cooling model : ',b,'%')\n",
        "print('testing score of cooling model : ',z,'%')"
      ],
      "execution_count": null,
      "outputs": [
        {
          "output_type": "stream",
          "text": [
            "training score of cooling model :  89.1260940762807 %\n",
            "testing score of cooling model :  88.10418271133285 %\n"
          ],
          "name": "stdout"
        }
      ]
    },
    {
      "cell_type": "markdown",
      "metadata": {
        "id": "2EuBIPLGOvyR"
      },
      "source": [
        "slope and intercept of appropriate features of cooling load"
      ]
    },
    {
      "cell_type": "code",
      "metadata": {
        "id": "aVYXbWb5OPdI",
        "colab": {
          "base_uri": "https://localhost:8080/"
        },
        "outputId": "5b61c1df-af0f-4948-8b8f-b1147ceaea35"
      },
      "source": [
        "print('the coefficient of Cooling load on appropriate feature: ', ccmlr.coef_)\n",
        "print('the intercept of Cooling load on appropriate feature: ',ccmlr.intercept_)"
      ],
      "execution_count": null,
      "outputs": [
        {
          "output_type": "stream",
          "text": [
            "the coefficient of Cooling load on appropriate feature:  [-2.23925328e+01  1.50276787e-02  5.87642556e+00  1.48464918e+01\n",
            "  8.33512102e-02]\n",
            "the intercept of Cooling load on appropriate feature:  2.238849817435966\n"
          ],
          "name": "stdout"
        }
      ]
    },
    {
      "cell_type": "code",
      "metadata": {
        "id": "jebEWzElPCfi"
      },
      "source": [
        "yc_pred = ccmlr.predict(xc_test)"
      ],
      "execution_count": null,
      "outputs": []
    },
    {
      "cell_type": "markdown",
      "metadata": {
        "id": "wivb1wagPKJZ"
      },
      "source": [
        "Regressioon metrics on cooling load"
      ]
    },
    {
      "cell_type": "code",
      "metadata": {
        "colab": {
          "base_uri": "https://localhost:8080/"
        },
        "id": "C9n25aQSPPd4",
        "outputId": "c19e95d4-102f-4fb9-ea9e-42b2e20d7574"
      },
      "source": [
        "MAE = mean_absolute_error(yc_test,yc_pred)\n",
        "MSE = mean_squared_error(yc_test,yc_pred)\n",
        "RMSE = (MSE)**0.5\n",
        "print('mean absolute error for cooling load on appropriate feature: ',MAE)\n",
        "print('mean square error for cooling load appropriate feature: ',MSE)\n",
        "print('mean root square error for cooling load appropriate feature: ',RMSE)"
      ],
      "execution_count": null,
      "outputs": [
        {
          "output_type": "stream",
          "text": [
            "mean absolute error for cooling load on appropriate feature:  2.425840568938281\n",
            "mean square error for cooling load appropriate feature:  10.805271553125811\n",
            "mean root square error for cooling load appropriate feature:  3.2871372884511243\n"
          ],
          "name": "stdout"
        }
      ]
    },
    {
      "cell_type": "code",
      "metadata": {
        "colab": {
          "base_uri": "https://localhost:8080/"
        },
        "id": "GHNAsApwPdZt",
        "outputId": "785d530d-e6ab-4786-ad1f-ee4a9892bc87"
      },
      "source": [
        "dfC['predicted cooling load'] = ccmlr.predict(xc)"
      ],
      "execution_count": null,
      "outputs": [
        {
          "output_type": "stream",
          "text": [
            "/usr/local/lib/python3.7/dist-packages/ipykernel_launcher.py:1: SettingWithCopyWarning: \n",
            "A value is trying to be set on a copy of a slice from a DataFrame.\n",
            "Try using .loc[row_indexer,col_indexer] = value instead\n",
            "\n",
            "See the caveats in the documentation: https://pandas.pydata.org/pandas-docs/stable/user_guide/indexing.html#returning-a-view-versus-a-copy\n",
            "  \"\"\"Entry point for launching an IPython kernel.\n"
          ],
          "name": "stderr"
        }
      ]
    },
    {
      "cell_type": "code",
      "metadata": {
        "colab": {
          "base_uri": "https://localhost:8080/"
        },
        "id": "2ZYXaiO4Po-s",
        "outputId": "8a643566-adb8-4b96-d5ce-bd42c6cbc97f"
      },
      "source": [
        "dfC['Pred_Cooling_load_eq'] = df['Relative Compactness']*ccmlr.coef_[0] + df['Wall Area']*ccmlr.coef_[1] + df['Overall Height']*ccmlr.coef_[2] + df['Glazing Area']*ccmlr.coef_[3] + df['Glazing Area Distrbution']*ccmlr.coef_[4] + ccmlr.intercept_"
      ],
      "execution_count": null,
      "outputs": [
        {
          "output_type": "stream",
          "text": [
            "/usr/local/lib/python3.7/dist-packages/ipykernel_launcher.py:1: SettingWithCopyWarning: \n",
            "A value is trying to be set on a copy of a slice from a DataFrame.\n",
            "Try using .loc[row_indexer,col_indexer] = value instead\n",
            "\n",
            "See the caveats in the documentation: https://pandas.pydata.org/pandas-docs/stable/user_guide/indexing.html#returning-a-view-versus-a-copy\n",
            "  \"\"\"Entry point for launching an IPython kernel.\n"
          ],
          "name": "stderr"
        }
      ]
    },
    {
      "cell_type": "code",
      "metadata": {
        "colab": {
          "base_uri": "https://localhost:8080/",
          "height": 424
        },
        "id": "QxKB7qoyRIcq",
        "outputId": "290afb40-535c-416e-e665-d8f79d14a918"
      },
      "source": [
        "dfC"
      ],
      "execution_count": null,
      "outputs": [
        {
          "output_type": "execute_result",
          "data": {
            "text/html": [
              "<div>\n",
              "<style scoped>\n",
              "    .dataframe tbody tr th:only-of-type {\n",
              "        vertical-align: middle;\n",
              "    }\n",
              "\n",
              "    .dataframe tbody tr th {\n",
              "        vertical-align: top;\n",
              "    }\n",
              "\n",
              "    .dataframe thead th {\n",
              "        text-align: right;\n",
              "    }\n",
              "</style>\n",
              "<table border=\"1\" class=\"dataframe\">\n",
              "  <thead>\n",
              "    <tr style=\"text-align: right;\">\n",
              "      <th></th>\n",
              "      <th>Relative Compactness</th>\n",
              "      <th>Wall Area</th>\n",
              "      <th>Overall Height</th>\n",
              "      <th>Glazing Area</th>\n",
              "      <th>Glazing Area Distrbution</th>\n",
              "      <th>Cooling Load</th>\n",
              "      <th>predicted cooling load</th>\n",
              "      <th>Pred_Cooling_load_eq</th>\n",
              "    </tr>\n",
              "  </thead>\n",
              "  <tbody>\n",
              "    <tr>\n",
              "      <th>0</th>\n",
              "      <td>0.98</td>\n",
              "      <td>294.0</td>\n",
              "      <td>7.0</td>\n",
              "      <td>0.0</td>\n",
              "      <td>0</td>\n",
              "      <td>21.33</td>\n",
              "      <td>25.847284</td>\n",
              "      <td>25.847284</td>\n",
              "    </tr>\n",
              "    <tr>\n",
              "      <th>1</th>\n",
              "      <td>0.98</td>\n",
              "      <td>294.0</td>\n",
              "      <td>7.0</td>\n",
              "      <td>0.0</td>\n",
              "      <td>0</td>\n",
              "      <td>21.33</td>\n",
              "      <td>25.847284</td>\n",
              "      <td>25.847284</td>\n",
              "    </tr>\n",
              "    <tr>\n",
              "      <th>2</th>\n",
              "      <td>0.98</td>\n",
              "      <td>294.0</td>\n",
              "      <td>7.0</td>\n",
              "      <td>0.0</td>\n",
              "      <td>0</td>\n",
              "      <td>21.33</td>\n",
              "      <td>25.847284</td>\n",
              "      <td>25.847284</td>\n",
              "    </tr>\n",
              "    <tr>\n",
              "      <th>3</th>\n",
              "      <td>0.98</td>\n",
              "      <td>294.0</td>\n",
              "      <td>7.0</td>\n",
              "      <td>0.0</td>\n",
              "      <td>0</td>\n",
              "      <td>21.33</td>\n",
              "      <td>25.847284</td>\n",
              "      <td>25.847284</td>\n",
              "    </tr>\n",
              "    <tr>\n",
              "      <th>4</th>\n",
              "      <td>0.90</td>\n",
              "      <td>318.5</td>\n",
              "      <td>7.0</td>\n",
              "      <td>0.0</td>\n",
              "      <td>0</td>\n",
              "      <td>28.28</td>\n",
              "      <td>28.006865</td>\n",
              "      <td>28.006865</td>\n",
              "    </tr>\n",
              "    <tr>\n",
              "      <th>...</th>\n",
              "      <td>...</td>\n",
              "      <td>...</td>\n",
              "      <td>...</td>\n",
              "      <td>...</td>\n",
              "      <td>...</td>\n",
              "      <td>...</td>\n",
              "      <td>...</td>\n",
              "      <td>...</td>\n",
              "    </tr>\n",
              "    <tr>\n",
              "      <th>763</th>\n",
              "      <td>0.64</td>\n",
              "      <td>343.0</td>\n",
              "      <td>3.5</td>\n",
              "      <td>0.4</td>\n",
              "      <td>5</td>\n",
              "      <td>21.40</td>\n",
              "      <td>19.984965</td>\n",
              "      <td>19.984965</td>\n",
              "    </tr>\n",
              "    <tr>\n",
              "      <th>764</th>\n",
              "      <td>0.62</td>\n",
              "      <td>367.5</td>\n",
              "      <td>3.5</td>\n",
              "      <td>0.4</td>\n",
              "      <td>5</td>\n",
              "      <td>16.88</td>\n",
              "      <td>20.800994</td>\n",
              "      <td>20.800994</td>\n",
              "    </tr>\n",
              "    <tr>\n",
              "      <th>765</th>\n",
              "      <td>0.62</td>\n",
              "      <td>367.5</td>\n",
              "      <td>3.5</td>\n",
              "      <td>0.4</td>\n",
              "      <td>5</td>\n",
              "      <td>17.11</td>\n",
              "      <td>20.800994</td>\n",
              "      <td>20.800994</td>\n",
              "    </tr>\n",
              "    <tr>\n",
              "      <th>766</th>\n",
              "      <td>0.62</td>\n",
              "      <td>367.5</td>\n",
              "      <td>3.5</td>\n",
              "      <td>0.4</td>\n",
              "      <td>5</td>\n",
              "      <td>16.61</td>\n",
              "      <td>20.800994</td>\n",
              "      <td>20.800994</td>\n",
              "    </tr>\n",
              "    <tr>\n",
              "      <th>767</th>\n",
              "      <td>0.62</td>\n",
              "      <td>367.5</td>\n",
              "      <td>3.5</td>\n",
              "      <td>0.4</td>\n",
              "      <td>5</td>\n",
              "      <td>16.03</td>\n",
              "      <td>20.800994</td>\n",
              "      <td>20.800994</td>\n",
              "    </tr>\n",
              "  </tbody>\n",
              "</table>\n",
              "<p>768 rows × 8 columns</p>\n",
              "</div>"
            ],
            "text/plain": [
              "     Relative Compactness  ...  Pred_Cooling_load_eq\n",
              "0                    0.98  ...             25.847284\n",
              "1                    0.98  ...             25.847284\n",
              "2                    0.98  ...             25.847284\n",
              "3                    0.98  ...             25.847284\n",
              "4                    0.90  ...             28.006865\n",
              "..                    ...  ...                   ...\n",
              "763                  0.64  ...             19.984965\n",
              "764                  0.62  ...             20.800994\n",
              "765                  0.62  ...             20.800994\n",
              "766                  0.62  ...             20.800994\n",
              "767                  0.62  ...             20.800994\n",
              "\n",
              "[768 rows x 8 columns]"
            ]
          },
          "metadata": {
            "tags": []
          },
          "execution_count": 102
        }
      ]
    },
    {
      "cell_type": "markdown",
      "metadata": {
        "id": "zc3WI16cRPZ0"
      },
      "source": [
        "Dataset related upon the cooling load of apropriate feature"
      ]
    },
    {
      "cell_type": "code",
      "metadata": {
        "id": "_eaJnmnFRY-5"
      },
      "source": [
        "############################################   END  ######################################"
      ],
      "execution_count": null,
      "outputs": []
    }
  ]
}